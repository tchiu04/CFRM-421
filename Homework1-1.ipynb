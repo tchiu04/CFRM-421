{
  "cells": [
    {
      "cell_type": "markdown",
      "metadata": {
        "cell_style": "center",
        "id": "eXkzbJlN-g0k"
      },
      "source": [
        "<h1>\n",
        "<center>CFRM 421/521</center>\n",
        "</h1>\n",
        "\n",
        "<h1>\n",
        "<center>Terence Chiu</center>\n",
        "</h1>\n",
        "\n",
        "<h1>\n",
        "<center>Homework 1</center>\n",
        "</h1>\n",
        "\n",
        "* **Due: Tuesday, April 15, 2025, 11:59 PM**\n",
        "\n",
        "\n",
        "* Total marks: 49\n",
        "\n",
        "\n",
        "* Late submissions are allowed, but a 20% penalty per day applies. Your last submission is considered for calculating the penalty.\n",
        "\n",
        "\n",
        "*  Use this Jupyter notebook as a template for your solutions. **Your solution must be submitted as both one Jupyter notebook and one PDF file on Gradescope.** There will be two modules on Gradescope, one for each file type. The notebook must be already run, that is, make sure that you have run all the code, save the notebook, and then when you reopen the notebook, checked that all output appears as expected. You are allowed to use code from the textbook, textbook website, or lecture notes."
      ]
    },
    {
      "cell_type": "markdown",
      "metadata": {
        "id": "EqNWkjZG-g0l"
      },
      "source": [
        "# 1. Preprocessing housing data [10 marks]\n",
        "\n",
        "Hint: Reading Chapter 2 of the textbook and the accompanying [Jupyter notebook](https://github.com/ageron/handson-ml3/blob/main/02_end_to_end_machine_learning_project.ipynb) on the textbook website may help with this question.\n",
        "\n",
        "Consider the California housing data from Chapter 2 of the textbook. The following code fetches the data."
      ]
    },
    {
      "cell_type": "code",
      "execution_count": 2,
      "metadata": {
        "id": "1r95DVRH-g0l"
      },
      "outputs": [],
      "source": [
        "from pathlib import Path\n",
        "import pandas as pd\n",
        "import tarfile\n",
        "import urllib.request\n",
        "import numpy as np\n",
        "from sklearn.model_selection import StratifiedShuffleSplit\n",
        "\n",
        "def load_housing_data():\n",
        "    tarball_path = Path(\"datasets/housing.tgz\")\n",
        "    if not tarball_path.is_file():\n",
        "        Path(\"datasets\").mkdir(parents=True, exist_ok=True)\n",
        "        url = \"https://github.com/ageron/data/raw/main/housing.tgz\"\n",
        "        urllib.request.urlretrieve(url, tarball_path)\n",
        "        with tarfile.open(tarball_path) as housing_tarball:\n",
        "            housing_tarball.extractall(path=\"datasets\")\n",
        "    return pd.read_csv(Path(\"datasets/housing/housing.csv\"))\n",
        "\n",
        "housing = load_housing_data()"
      ]
    },
    {
      "cell_type": "markdown",
      "metadata": {
        "id": "_SgQn2t1-g0l"
      },
      "source": [
        "Next, we create stratified test and training sets based on different income categories."
      ]
    },
    {
      "cell_type": "code",
      "execution_count": 3,
      "metadata": {
        "id": "kPtID9kg-g0l"
      },
      "outputs": [],
      "source": [
        "housing[\"income_cat\"] = pd.cut(housing[\"median_income\"],\n",
        "                               bins=[0., 1.5, 3.0, 4.5, 6., np.inf],\n",
        "                               labels=[1, 2, 3, 4, 5])\n",
        "\n",
        "split_obj = StratifiedShuffleSplit(n_splits=1, test_size=0.2, random_state=42)\n",
        "for train_index, test_index in split_obj.split(housing, housing[\"income_cat\"]):\n",
        "    strat_train_set = housing.loc[train_index]\n",
        "    strat_test_set = housing.loc[test_index]\n",
        "\n",
        "for set_ in (strat_train_set, strat_test_set):\n",
        "    set_.drop(\"income_cat\", axis=1, inplace=True)"
      ]
    },
    {
      "cell_type": "markdown",
      "metadata": {
        "id": "zvb62ame-g0l"
      },
      "source": [
        "Let us separate the features (`X_raw`) and the response variable (`y`)."
      ]
    },
    {
      "cell_type": "code",
      "execution_count": 4,
      "metadata": {
        "id": "CL3C5UD5-g0l"
      },
      "outputs": [],
      "source": [
        "X_raw = strat_train_set.drop(\"median_house_value\", axis=1)\n",
        "y = strat_train_set[\"median_house_value\"].copy()\n"
      ]
    },
    {
      "cell_type": "markdown",
      "metadata": {
        "id": "oKcPfeCr-g0l"
      },
      "source": [
        "## (a) Handling missing values [1 mark]\n",
        "\n",
        "Let us find out if there are any missing values in our features. As the code below indicates, out of 16512 observations, 158 have missing values. Further inspection shows that `total_bedrooms` has missing values (only a few missing values are shown below)."
      ]
    },
    {
      "cell_type": "code",
      "execution_count": 5,
      "metadata": {
        "id": "pLUzvy_y-g0l",
        "outputId": "7ba0d52f-f050-4831-8975-1b9c0b279349",
        "colab": {
          "base_uri": "https://localhost:8080/",
          "height": 0
        }
      },
      "outputs": [
        {
          "output_type": "execute_result",
          "data": {
            "text/plain": [
              "(16512, 9)"
            ]
          },
          "metadata": {},
          "execution_count": 5
        }
      ],
      "source": [
        "X_raw.shape"
      ]
    },
    {
      "cell_type": "code",
      "execution_count": 6,
      "metadata": {
        "id": "d-g6jjk_-g0l",
        "outputId": "b57aeceb-8cad-420e-e66e-77b97ed8d238",
        "colab": {
          "base_uri": "https://localhost:8080/",
          "height": 0
        }
      },
      "outputs": [
        {
          "output_type": "execute_result",
          "data": {
            "text/plain": [
              "(168, 9)"
            ]
          },
          "metadata": {},
          "execution_count": 6
        }
      ],
      "source": [
        "X_raw[X_raw.isnull().any(axis=1)].shape"
      ]
    },
    {
      "cell_type": "code",
      "execution_count": 7,
      "metadata": {
        "scrolled": true,
        "id": "34OptTZw-g0l",
        "outputId": "ff447d75-cef9-4ee7-9e4d-1a4c75c92594",
        "colab": {
          "base_uri": "https://localhost:8080/",
          "height": 206
        }
      },
      "outputs": [
        {
          "output_type": "execute_result",
          "data": {
            "text/plain": [
              "       longitude  latitude  housing_median_age  total_rooms  total_bedrooms  \\\n",
              "14452    -120.67     40.50                15.0       5343.0             NaN   \n",
              "18217    -117.96     34.03                35.0       2093.0             NaN   \n",
              "11889    -118.05     34.04                33.0       1348.0             NaN   \n",
              "20325    -118.88     34.17                15.0       4260.0             NaN   \n",
              "14360    -117.87     33.62                 8.0       1266.0             NaN   \n",
              "\n",
              "       population  households  median_income ocean_proximity  \n",
              "14452      2503.0       902.0         3.5962          INLAND  \n",
              "18217      1755.0       403.0         3.4115       <1H OCEAN  \n",
              "11889      1098.0       257.0         4.2917       <1H OCEAN  \n",
              "20325      1701.0       669.0         5.1033       <1H OCEAN  \n",
              "14360       375.0       183.0         9.8020       <1H OCEAN  "
            ],
            "text/html": [
              "\n",
              "  <div id=\"df-1e64882c-b6d7-4e8b-abce-4b7f180775ae\" class=\"colab-df-container\">\n",
              "    <div>\n",
              "<style scoped>\n",
              "    .dataframe tbody tr th:only-of-type {\n",
              "        vertical-align: middle;\n",
              "    }\n",
              "\n",
              "    .dataframe tbody tr th {\n",
              "        vertical-align: top;\n",
              "    }\n",
              "\n",
              "    .dataframe thead th {\n",
              "        text-align: right;\n",
              "    }\n",
              "</style>\n",
              "<table border=\"1\" class=\"dataframe\">\n",
              "  <thead>\n",
              "    <tr style=\"text-align: right;\">\n",
              "      <th></th>\n",
              "      <th>longitude</th>\n",
              "      <th>latitude</th>\n",
              "      <th>housing_median_age</th>\n",
              "      <th>total_rooms</th>\n",
              "      <th>total_bedrooms</th>\n",
              "      <th>population</th>\n",
              "      <th>households</th>\n",
              "      <th>median_income</th>\n",
              "      <th>ocean_proximity</th>\n",
              "    </tr>\n",
              "  </thead>\n",
              "  <tbody>\n",
              "    <tr>\n",
              "      <th>14452</th>\n",
              "      <td>-120.67</td>\n",
              "      <td>40.50</td>\n",
              "      <td>15.0</td>\n",
              "      <td>5343.0</td>\n",
              "      <td>NaN</td>\n",
              "      <td>2503.0</td>\n",
              "      <td>902.0</td>\n",
              "      <td>3.5962</td>\n",
              "      <td>INLAND</td>\n",
              "    </tr>\n",
              "    <tr>\n",
              "      <th>18217</th>\n",
              "      <td>-117.96</td>\n",
              "      <td>34.03</td>\n",
              "      <td>35.0</td>\n",
              "      <td>2093.0</td>\n",
              "      <td>NaN</td>\n",
              "      <td>1755.0</td>\n",
              "      <td>403.0</td>\n",
              "      <td>3.4115</td>\n",
              "      <td>&lt;1H OCEAN</td>\n",
              "    </tr>\n",
              "    <tr>\n",
              "      <th>11889</th>\n",
              "      <td>-118.05</td>\n",
              "      <td>34.04</td>\n",
              "      <td>33.0</td>\n",
              "      <td>1348.0</td>\n",
              "      <td>NaN</td>\n",
              "      <td>1098.0</td>\n",
              "      <td>257.0</td>\n",
              "      <td>4.2917</td>\n",
              "      <td>&lt;1H OCEAN</td>\n",
              "    </tr>\n",
              "    <tr>\n",
              "      <th>20325</th>\n",
              "      <td>-118.88</td>\n",
              "      <td>34.17</td>\n",
              "      <td>15.0</td>\n",
              "      <td>4260.0</td>\n",
              "      <td>NaN</td>\n",
              "      <td>1701.0</td>\n",
              "      <td>669.0</td>\n",
              "      <td>5.1033</td>\n",
              "      <td>&lt;1H OCEAN</td>\n",
              "    </tr>\n",
              "    <tr>\n",
              "      <th>14360</th>\n",
              "      <td>-117.87</td>\n",
              "      <td>33.62</td>\n",
              "      <td>8.0</td>\n",
              "      <td>1266.0</td>\n",
              "      <td>NaN</td>\n",
              "      <td>375.0</td>\n",
              "      <td>183.0</td>\n",
              "      <td>9.8020</td>\n",
              "      <td>&lt;1H OCEAN</td>\n",
              "    </tr>\n",
              "  </tbody>\n",
              "</table>\n",
              "</div>\n",
              "    <div class=\"colab-df-buttons\">\n",
              "\n",
              "  <div class=\"colab-df-container\">\n",
              "    <button class=\"colab-df-convert\" onclick=\"convertToInteractive('df-1e64882c-b6d7-4e8b-abce-4b7f180775ae')\"\n",
              "            title=\"Convert this dataframe to an interactive table.\"\n",
              "            style=\"display:none;\">\n",
              "\n",
              "  <svg xmlns=\"http://www.w3.org/2000/svg\" height=\"24px\" viewBox=\"0 -960 960 960\">\n",
              "    <path d=\"M120-120v-720h720v720H120Zm60-500h600v-160H180v160Zm220 220h160v-160H400v160Zm0 220h160v-160H400v160ZM180-400h160v-160H180v160Zm440 0h160v-160H620v160ZM180-180h160v-160H180v160Zm440 0h160v-160H620v160Z\"/>\n",
              "  </svg>\n",
              "    </button>\n",
              "\n",
              "  <style>\n",
              "    .colab-df-container {\n",
              "      display:flex;\n",
              "      gap: 12px;\n",
              "    }\n",
              "\n",
              "    .colab-df-convert {\n",
              "      background-color: #E8F0FE;\n",
              "      border: none;\n",
              "      border-radius: 50%;\n",
              "      cursor: pointer;\n",
              "      display: none;\n",
              "      fill: #1967D2;\n",
              "      height: 32px;\n",
              "      padding: 0 0 0 0;\n",
              "      width: 32px;\n",
              "    }\n",
              "\n",
              "    .colab-df-convert:hover {\n",
              "      background-color: #E2EBFA;\n",
              "      box-shadow: 0px 1px 2px rgba(60, 64, 67, 0.3), 0px 1px 3px 1px rgba(60, 64, 67, 0.15);\n",
              "      fill: #174EA6;\n",
              "    }\n",
              "\n",
              "    .colab-df-buttons div {\n",
              "      margin-bottom: 4px;\n",
              "    }\n",
              "\n",
              "    [theme=dark] .colab-df-convert {\n",
              "      background-color: #3B4455;\n",
              "      fill: #D2E3FC;\n",
              "    }\n",
              "\n",
              "    [theme=dark] .colab-df-convert:hover {\n",
              "      background-color: #434B5C;\n",
              "      box-shadow: 0px 1px 3px 1px rgba(0, 0, 0, 0.15);\n",
              "      filter: drop-shadow(0px 1px 2px rgba(0, 0, 0, 0.3));\n",
              "      fill: #FFFFFF;\n",
              "    }\n",
              "  </style>\n",
              "\n",
              "    <script>\n",
              "      const buttonEl =\n",
              "        document.querySelector('#df-1e64882c-b6d7-4e8b-abce-4b7f180775ae button.colab-df-convert');\n",
              "      buttonEl.style.display =\n",
              "        google.colab.kernel.accessAllowed ? 'block' : 'none';\n",
              "\n",
              "      async function convertToInteractive(key) {\n",
              "        const element = document.querySelector('#df-1e64882c-b6d7-4e8b-abce-4b7f180775ae');\n",
              "        const dataTable =\n",
              "          await google.colab.kernel.invokeFunction('convertToInteractive',\n",
              "                                                    [key], {});\n",
              "        if (!dataTable) return;\n",
              "\n",
              "        const docLinkHtml = 'Like what you see? Visit the ' +\n",
              "          '<a target=\"_blank\" href=https://colab.research.google.com/notebooks/data_table.ipynb>data table notebook</a>'\n",
              "          + ' to learn more about interactive tables.';\n",
              "        element.innerHTML = '';\n",
              "        dataTable['output_type'] = 'display_data';\n",
              "        await google.colab.output.renderOutput(dataTable, element);\n",
              "        const docLink = document.createElement('div');\n",
              "        docLink.innerHTML = docLinkHtml;\n",
              "        element.appendChild(docLink);\n",
              "      }\n",
              "    </script>\n",
              "  </div>\n",
              "\n",
              "\n",
              "<div id=\"df-dd7216df-06cf-4c33-b4c4-466095fb62c2\">\n",
              "  <button class=\"colab-df-quickchart\" onclick=\"quickchart('df-dd7216df-06cf-4c33-b4c4-466095fb62c2')\"\n",
              "            title=\"Suggest charts\"\n",
              "            style=\"display:none;\">\n",
              "\n",
              "<svg xmlns=\"http://www.w3.org/2000/svg\" height=\"24px\"viewBox=\"0 0 24 24\"\n",
              "     width=\"24px\">\n",
              "    <g>\n",
              "        <path d=\"M19 3H5c-1.1 0-2 .9-2 2v14c0 1.1.9 2 2 2h14c1.1 0 2-.9 2-2V5c0-1.1-.9-2-2-2zM9 17H7v-7h2v7zm4 0h-2V7h2v10zm4 0h-2v-4h2v4z\"/>\n",
              "    </g>\n",
              "</svg>\n",
              "  </button>\n",
              "\n",
              "<style>\n",
              "  .colab-df-quickchart {\n",
              "      --bg-color: #E8F0FE;\n",
              "      --fill-color: #1967D2;\n",
              "      --hover-bg-color: #E2EBFA;\n",
              "      --hover-fill-color: #174EA6;\n",
              "      --disabled-fill-color: #AAA;\n",
              "      --disabled-bg-color: #DDD;\n",
              "  }\n",
              "\n",
              "  [theme=dark] .colab-df-quickchart {\n",
              "      --bg-color: #3B4455;\n",
              "      --fill-color: #D2E3FC;\n",
              "      --hover-bg-color: #434B5C;\n",
              "      --hover-fill-color: #FFFFFF;\n",
              "      --disabled-bg-color: #3B4455;\n",
              "      --disabled-fill-color: #666;\n",
              "  }\n",
              "\n",
              "  .colab-df-quickchart {\n",
              "    background-color: var(--bg-color);\n",
              "    border: none;\n",
              "    border-radius: 50%;\n",
              "    cursor: pointer;\n",
              "    display: none;\n",
              "    fill: var(--fill-color);\n",
              "    height: 32px;\n",
              "    padding: 0;\n",
              "    width: 32px;\n",
              "  }\n",
              "\n",
              "  .colab-df-quickchart:hover {\n",
              "    background-color: var(--hover-bg-color);\n",
              "    box-shadow: 0 1px 2px rgba(60, 64, 67, 0.3), 0 1px 3px 1px rgba(60, 64, 67, 0.15);\n",
              "    fill: var(--button-hover-fill-color);\n",
              "  }\n",
              "\n",
              "  .colab-df-quickchart-complete:disabled,\n",
              "  .colab-df-quickchart-complete:disabled:hover {\n",
              "    background-color: var(--disabled-bg-color);\n",
              "    fill: var(--disabled-fill-color);\n",
              "    box-shadow: none;\n",
              "  }\n",
              "\n",
              "  .colab-df-spinner {\n",
              "    border: 2px solid var(--fill-color);\n",
              "    border-color: transparent;\n",
              "    border-bottom-color: var(--fill-color);\n",
              "    animation:\n",
              "      spin 1s steps(1) infinite;\n",
              "  }\n",
              "\n",
              "  @keyframes spin {\n",
              "    0% {\n",
              "      border-color: transparent;\n",
              "      border-bottom-color: var(--fill-color);\n",
              "      border-left-color: var(--fill-color);\n",
              "    }\n",
              "    20% {\n",
              "      border-color: transparent;\n",
              "      border-left-color: var(--fill-color);\n",
              "      border-top-color: var(--fill-color);\n",
              "    }\n",
              "    30% {\n",
              "      border-color: transparent;\n",
              "      border-left-color: var(--fill-color);\n",
              "      border-top-color: var(--fill-color);\n",
              "      border-right-color: var(--fill-color);\n",
              "    }\n",
              "    40% {\n",
              "      border-color: transparent;\n",
              "      border-right-color: var(--fill-color);\n",
              "      border-top-color: var(--fill-color);\n",
              "    }\n",
              "    60% {\n",
              "      border-color: transparent;\n",
              "      border-right-color: var(--fill-color);\n",
              "    }\n",
              "    80% {\n",
              "      border-color: transparent;\n",
              "      border-right-color: var(--fill-color);\n",
              "      border-bottom-color: var(--fill-color);\n",
              "    }\n",
              "    90% {\n",
              "      border-color: transparent;\n",
              "      border-bottom-color: var(--fill-color);\n",
              "    }\n",
              "  }\n",
              "</style>\n",
              "\n",
              "  <script>\n",
              "    async function quickchart(key) {\n",
              "      const quickchartButtonEl =\n",
              "        document.querySelector('#' + key + ' button');\n",
              "      quickchartButtonEl.disabled = true;  // To prevent multiple clicks.\n",
              "      quickchartButtonEl.classList.add('colab-df-spinner');\n",
              "      try {\n",
              "        const charts = await google.colab.kernel.invokeFunction(\n",
              "            'suggestCharts', [key], {});\n",
              "      } catch (error) {\n",
              "        console.error('Error during call to suggestCharts:', error);\n",
              "      }\n",
              "      quickchartButtonEl.classList.remove('colab-df-spinner');\n",
              "      quickchartButtonEl.classList.add('colab-df-quickchart-complete');\n",
              "    }\n",
              "    (() => {\n",
              "      let quickchartButtonEl =\n",
              "        document.querySelector('#df-dd7216df-06cf-4c33-b4c4-466095fb62c2 button');\n",
              "      quickchartButtonEl.style.display =\n",
              "        google.colab.kernel.accessAllowed ? 'block' : 'none';\n",
              "    })();\n",
              "  </script>\n",
              "</div>\n",
              "\n",
              "    </div>\n",
              "  </div>\n"
            ],
            "application/vnd.google.colaboratory.intrinsic+json": {
              "type": "dataframe",
              "summary": "{\n  \"name\": \"X_raw[X_raw\",\n  \"rows\": 5,\n  \"fields\": [\n    {\n      \"column\": \"longitude\",\n      \"properties\": {\n        \"dtype\": \"number\",\n        \"std\": 1.1801821893250222,\n        \"min\": -120.67,\n        \"max\": -117.87,\n        \"num_unique_values\": 5,\n        \"samples\": [\n          -117.96,\n          -117.87,\n          -118.05\n        ],\n        \"semantic_type\": \"\",\n        \"description\": \"\"\n      }\n    },\n    {\n      \"column\": \"latitude\",\n      \"properties\": {\n        \"dtype\": \"number\",\n        \"std\": 2.9298412926300292,\n        \"min\": 33.62,\n        \"max\": 40.5,\n        \"num_unique_values\": 5,\n        \"samples\": [\n          34.03,\n          33.62,\n          34.04\n        ],\n        \"semantic_type\": \"\",\n        \"description\": \"\"\n      }\n    },\n    {\n      \"column\": \"housing_median_age\",\n      \"properties\": {\n        \"dtype\": \"number\",\n        \"std\": 12.049896265113654,\n        \"min\": 8.0,\n        \"max\": 35.0,\n        \"num_unique_values\": 4,\n        \"samples\": [\n          35.0,\n          8.0,\n          15.0\n        ],\n        \"semantic_type\": \"\",\n        \"description\": \"\"\n      }\n    },\n    {\n      \"column\": \"total_rooms\",\n      \"properties\": {\n        \"dtype\": \"number\",\n        \"std\": 1839.8735010864198,\n        \"min\": 1266.0,\n        \"max\": 5343.0,\n        \"num_unique_values\": 5,\n        \"samples\": [\n          2093.0,\n          1266.0,\n          1348.0\n        ],\n        \"semantic_type\": \"\",\n        \"description\": \"\"\n      }\n    },\n    {\n      \"column\": \"total_bedrooms\",\n      \"properties\": {\n        \"dtype\": \"number\",\n        \"std\": null,\n        \"min\": null,\n        \"max\": null,\n        \"num_unique_values\": 0,\n        \"samples\": [],\n        \"semantic_type\": \"\",\n        \"description\": \"\"\n      }\n    },\n    {\n      \"column\": \"population\",\n      \"properties\": {\n        \"dtype\": \"number\",\n        \"std\": 796.5141555553172,\n        \"min\": 375.0,\n        \"max\": 2503.0,\n        \"num_unique_values\": 5,\n        \"samples\": [],\n        \"semantic_type\": \"\",\n        \"description\": \"\"\n      }\n    },\n    {\n      \"column\": \"households\",\n      \"properties\": {\n        \"dtype\": \"number\",\n        \"std\": 299.012039891373,\n        \"min\": 183.0,\n        \"max\": 902.0,\n        \"num_unique_values\": 5,\n        \"samples\": [],\n        \"semantic_type\": \"\",\n        \"description\": \"\"\n      }\n    },\n    {\n      \"column\": \"median_income\",\n      \"properties\": {\n        \"dtype\": \"number\",\n        \"std\": 2.6351133776367193,\n        \"min\": 3.4115,\n        \"max\": 9.802,\n        \"num_unique_values\": 5,\n        \"samples\": [],\n        \"semantic_type\": \"\",\n        \"description\": \"\"\n      }\n    },\n    {\n      \"column\": \"ocean_proximity\",\n      \"properties\": {\n        \"dtype\": \"category\",\n        \"num_unique_values\": 2,\n        \"samples\": [],\n        \"semantic_type\": \"\",\n        \"description\": \"\"\n      }\n    }\n  ]\n}"
            }
          },
          "metadata": {},
          "execution_count": 7
        }
      ],
      "source": [
        "X_raw[X_raw.isnull().any(axis=1)].head()"
      ]
    },
    {
      "cell_type": "markdown",
      "metadata": {
        "id": "4ukZFxzI-g0l"
      },
      "source": [
        "**Task:** Read the subsection \"Data Cleaning\" in Chapter 2 of the textbook. Use the `sklearn.impute.SimpleImputer` class to fill the missing values in the numerical features (everything except `ocean_proximity`) with the median of the corresponding feature."
      ]
    },
    {
      "cell_type": "markdown",
      "metadata": {
        "id": "u7SAu6l9-g0l"
      },
      "source": [
        "**Solution:**"
      ]
    },
    {
      "cell_type": "code",
      "execution_count": 8,
      "metadata": {
        "id": "4y2YThoT-g0l",
        "outputId": "7e0e08c2-af4f-433e-dc6b-c5442e72acfe",
        "colab": {
          "base_uri": "https://localhost:8080/",
          "height": 424
        }
      },
      "outputs": [
        {
          "output_type": "execute_result",
          "data": {
            "text/plain": [
              "       longitude  latitude  housing_median_age  total_rooms  total_bedrooms  \\\n",
              "13096    -122.42     37.80                52.0       3321.0          1115.0   \n",
              "14973    -118.38     34.14                40.0       1965.0           354.0   \n",
              "3785     -121.98     38.36                33.0       1083.0           217.0   \n",
              "14689    -117.11     33.75                17.0       4174.0           851.0   \n",
              "20507    -118.15     33.77                36.0       4366.0          1211.0   \n",
              "...          ...       ...                 ...          ...             ...   \n",
              "14207    -118.40     33.86                41.0       2237.0           597.0   \n",
              "13105    -119.31     36.32                23.0       2945.0           592.0   \n",
              "19301    -117.06     32.59                13.0       3920.0           775.0   \n",
              "19121    -118.40     34.06                37.0       3781.0           873.0   \n",
              "19888    -122.41     37.66                44.0        431.0           195.0   \n",
              "\n",
              "       population  households  median_income  \n",
              "13096      1576.0      1034.0         2.0987  \n",
              "14973       666.0       357.0         6.0876  \n",
              "3785        562.0       203.0         2.4330  \n",
              "14689      1845.0       780.0         2.2618  \n",
              "20507      1912.0      1172.0         3.5292  \n",
              "...           ...         ...            ...  \n",
              "14207       938.0       523.0         4.7105  \n",
              "13105      1419.0       532.0         2.5733  \n",
              "19301      2814.0       760.0         4.0616  \n",
              "19121      1725.0       838.0         4.1455  \n",
              "19888       682.0       212.0         3.2833  \n",
              "\n",
              "[16512 rows x 8 columns]"
            ],
            "text/html": [
              "\n",
              "  <div id=\"df-20181293-ed05-4ad8-9129-6e7820d423c4\" class=\"colab-df-container\">\n",
              "    <div>\n",
              "<style scoped>\n",
              "    .dataframe tbody tr th:only-of-type {\n",
              "        vertical-align: middle;\n",
              "    }\n",
              "\n",
              "    .dataframe tbody tr th {\n",
              "        vertical-align: top;\n",
              "    }\n",
              "\n",
              "    .dataframe thead th {\n",
              "        text-align: right;\n",
              "    }\n",
              "</style>\n",
              "<table border=\"1\" class=\"dataframe\">\n",
              "  <thead>\n",
              "    <tr style=\"text-align: right;\">\n",
              "      <th></th>\n",
              "      <th>longitude</th>\n",
              "      <th>latitude</th>\n",
              "      <th>housing_median_age</th>\n",
              "      <th>total_rooms</th>\n",
              "      <th>total_bedrooms</th>\n",
              "      <th>population</th>\n",
              "      <th>households</th>\n",
              "      <th>median_income</th>\n",
              "    </tr>\n",
              "  </thead>\n",
              "  <tbody>\n",
              "    <tr>\n",
              "      <th>13096</th>\n",
              "      <td>-122.42</td>\n",
              "      <td>37.80</td>\n",
              "      <td>52.0</td>\n",
              "      <td>3321.0</td>\n",
              "      <td>1115.0</td>\n",
              "      <td>1576.0</td>\n",
              "      <td>1034.0</td>\n",
              "      <td>2.0987</td>\n",
              "    </tr>\n",
              "    <tr>\n",
              "      <th>14973</th>\n",
              "      <td>-118.38</td>\n",
              "      <td>34.14</td>\n",
              "      <td>40.0</td>\n",
              "      <td>1965.0</td>\n",
              "      <td>354.0</td>\n",
              "      <td>666.0</td>\n",
              "      <td>357.0</td>\n",
              "      <td>6.0876</td>\n",
              "    </tr>\n",
              "    <tr>\n",
              "      <th>3785</th>\n",
              "      <td>-121.98</td>\n",
              "      <td>38.36</td>\n",
              "      <td>33.0</td>\n",
              "      <td>1083.0</td>\n",
              "      <td>217.0</td>\n",
              "      <td>562.0</td>\n",
              "      <td>203.0</td>\n",
              "      <td>2.4330</td>\n",
              "    </tr>\n",
              "    <tr>\n",
              "      <th>14689</th>\n",
              "      <td>-117.11</td>\n",
              "      <td>33.75</td>\n",
              "      <td>17.0</td>\n",
              "      <td>4174.0</td>\n",
              "      <td>851.0</td>\n",
              "      <td>1845.0</td>\n",
              "      <td>780.0</td>\n",
              "      <td>2.2618</td>\n",
              "    </tr>\n",
              "    <tr>\n",
              "      <th>20507</th>\n",
              "      <td>-118.15</td>\n",
              "      <td>33.77</td>\n",
              "      <td>36.0</td>\n",
              "      <td>4366.0</td>\n",
              "      <td>1211.0</td>\n",
              "      <td>1912.0</td>\n",
              "      <td>1172.0</td>\n",
              "      <td>3.5292</td>\n",
              "    </tr>\n",
              "    <tr>\n",
              "      <th>...</th>\n",
              "      <td>...</td>\n",
              "      <td>...</td>\n",
              "      <td>...</td>\n",
              "      <td>...</td>\n",
              "      <td>...</td>\n",
              "      <td>...</td>\n",
              "      <td>...</td>\n",
              "      <td>...</td>\n",
              "    </tr>\n",
              "    <tr>\n",
              "      <th>14207</th>\n",
              "      <td>-118.40</td>\n",
              "      <td>33.86</td>\n",
              "      <td>41.0</td>\n",
              "      <td>2237.0</td>\n",
              "      <td>597.0</td>\n",
              "      <td>938.0</td>\n",
              "      <td>523.0</td>\n",
              "      <td>4.7105</td>\n",
              "    </tr>\n",
              "    <tr>\n",
              "      <th>13105</th>\n",
              "      <td>-119.31</td>\n",
              "      <td>36.32</td>\n",
              "      <td>23.0</td>\n",
              "      <td>2945.0</td>\n",
              "      <td>592.0</td>\n",
              "      <td>1419.0</td>\n",
              "      <td>532.0</td>\n",
              "      <td>2.5733</td>\n",
              "    </tr>\n",
              "    <tr>\n",
              "      <th>19301</th>\n",
              "      <td>-117.06</td>\n",
              "      <td>32.59</td>\n",
              "      <td>13.0</td>\n",
              "      <td>3920.0</td>\n",
              "      <td>775.0</td>\n",
              "      <td>2814.0</td>\n",
              "      <td>760.0</td>\n",
              "      <td>4.0616</td>\n",
              "    </tr>\n",
              "    <tr>\n",
              "      <th>19121</th>\n",
              "      <td>-118.40</td>\n",
              "      <td>34.06</td>\n",
              "      <td>37.0</td>\n",
              "      <td>3781.0</td>\n",
              "      <td>873.0</td>\n",
              "      <td>1725.0</td>\n",
              "      <td>838.0</td>\n",
              "      <td>4.1455</td>\n",
              "    </tr>\n",
              "    <tr>\n",
              "      <th>19888</th>\n",
              "      <td>-122.41</td>\n",
              "      <td>37.66</td>\n",
              "      <td>44.0</td>\n",
              "      <td>431.0</td>\n",
              "      <td>195.0</td>\n",
              "      <td>682.0</td>\n",
              "      <td>212.0</td>\n",
              "      <td>3.2833</td>\n",
              "    </tr>\n",
              "  </tbody>\n",
              "</table>\n",
              "<p>16512 rows × 8 columns</p>\n",
              "</div>\n",
              "    <div class=\"colab-df-buttons\">\n",
              "\n",
              "  <div class=\"colab-df-container\">\n",
              "    <button class=\"colab-df-convert\" onclick=\"convertToInteractive('df-20181293-ed05-4ad8-9129-6e7820d423c4')\"\n",
              "            title=\"Convert this dataframe to an interactive table.\"\n",
              "            style=\"display:none;\">\n",
              "\n",
              "  <svg xmlns=\"http://www.w3.org/2000/svg\" height=\"24px\" viewBox=\"0 -960 960 960\">\n",
              "    <path d=\"M120-120v-720h720v720H120Zm60-500h600v-160H180v160Zm220 220h160v-160H400v160Zm0 220h160v-160H400v160ZM180-400h160v-160H180v160Zm440 0h160v-160H620v160ZM180-180h160v-160H180v160Zm440 0h160v-160H620v160Z\"/>\n",
              "  </svg>\n",
              "    </button>\n",
              "\n",
              "  <style>\n",
              "    .colab-df-container {\n",
              "      display:flex;\n",
              "      gap: 12px;\n",
              "    }\n",
              "\n",
              "    .colab-df-convert {\n",
              "      background-color: #E8F0FE;\n",
              "      border: none;\n",
              "      border-radius: 50%;\n",
              "      cursor: pointer;\n",
              "      display: none;\n",
              "      fill: #1967D2;\n",
              "      height: 32px;\n",
              "      padding: 0 0 0 0;\n",
              "      width: 32px;\n",
              "    }\n",
              "\n",
              "    .colab-df-convert:hover {\n",
              "      background-color: #E2EBFA;\n",
              "      box-shadow: 0px 1px 2px rgba(60, 64, 67, 0.3), 0px 1px 3px 1px rgba(60, 64, 67, 0.15);\n",
              "      fill: #174EA6;\n",
              "    }\n",
              "\n",
              "    .colab-df-buttons div {\n",
              "      margin-bottom: 4px;\n",
              "    }\n",
              "\n",
              "    [theme=dark] .colab-df-convert {\n",
              "      background-color: #3B4455;\n",
              "      fill: #D2E3FC;\n",
              "    }\n",
              "\n",
              "    [theme=dark] .colab-df-convert:hover {\n",
              "      background-color: #434B5C;\n",
              "      box-shadow: 0px 1px 3px 1px rgba(0, 0, 0, 0.15);\n",
              "      filter: drop-shadow(0px 1px 2px rgba(0, 0, 0, 0.3));\n",
              "      fill: #FFFFFF;\n",
              "    }\n",
              "  </style>\n",
              "\n",
              "    <script>\n",
              "      const buttonEl =\n",
              "        document.querySelector('#df-20181293-ed05-4ad8-9129-6e7820d423c4 button.colab-df-convert');\n",
              "      buttonEl.style.display =\n",
              "        google.colab.kernel.accessAllowed ? 'block' : 'none';\n",
              "\n",
              "      async function convertToInteractive(key) {\n",
              "        const element = document.querySelector('#df-20181293-ed05-4ad8-9129-6e7820d423c4');\n",
              "        const dataTable =\n",
              "          await google.colab.kernel.invokeFunction('convertToInteractive',\n",
              "                                                    [key], {});\n",
              "        if (!dataTable) return;\n",
              "\n",
              "        const docLinkHtml = 'Like what you see? Visit the ' +\n",
              "          '<a target=\"_blank\" href=https://colab.research.google.com/notebooks/data_table.ipynb>data table notebook</a>'\n",
              "          + ' to learn more about interactive tables.';\n",
              "        element.innerHTML = '';\n",
              "        dataTable['output_type'] = 'display_data';\n",
              "        await google.colab.output.renderOutput(dataTable, element);\n",
              "        const docLink = document.createElement('div');\n",
              "        docLink.innerHTML = docLinkHtml;\n",
              "        element.appendChild(docLink);\n",
              "      }\n",
              "    </script>\n",
              "  </div>\n",
              "\n",
              "\n",
              "<div id=\"df-142e57aa-3cb6-4356-b3c0-891afc651ddc\">\n",
              "  <button class=\"colab-df-quickchart\" onclick=\"quickchart('df-142e57aa-3cb6-4356-b3c0-891afc651ddc')\"\n",
              "            title=\"Suggest charts\"\n",
              "            style=\"display:none;\">\n",
              "\n",
              "<svg xmlns=\"http://www.w3.org/2000/svg\" height=\"24px\"viewBox=\"0 0 24 24\"\n",
              "     width=\"24px\">\n",
              "    <g>\n",
              "        <path d=\"M19 3H5c-1.1 0-2 .9-2 2v14c0 1.1.9 2 2 2h14c1.1 0 2-.9 2-2V5c0-1.1-.9-2-2-2zM9 17H7v-7h2v7zm4 0h-2V7h2v10zm4 0h-2v-4h2v4z\"/>\n",
              "    </g>\n",
              "</svg>\n",
              "  </button>\n",
              "\n",
              "<style>\n",
              "  .colab-df-quickchart {\n",
              "      --bg-color: #E8F0FE;\n",
              "      --fill-color: #1967D2;\n",
              "      --hover-bg-color: #E2EBFA;\n",
              "      --hover-fill-color: #174EA6;\n",
              "      --disabled-fill-color: #AAA;\n",
              "      --disabled-bg-color: #DDD;\n",
              "  }\n",
              "\n",
              "  [theme=dark] .colab-df-quickchart {\n",
              "      --bg-color: #3B4455;\n",
              "      --fill-color: #D2E3FC;\n",
              "      --hover-bg-color: #434B5C;\n",
              "      --hover-fill-color: #FFFFFF;\n",
              "      --disabled-bg-color: #3B4455;\n",
              "      --disabled-fill-color: #666;\n",
              "  }\n",
              "\n",
              "  .colab-df-quickchart {\n",
              "    background-color: var(--bg-color);\n",
              "    border: none;\n",
              "    border-radius: 50%;\n",
              "    cursor: pointer;\n",
              "    display: none;\n",
              "    fill: var(--fill-color);\n",
              "    height: 32px;\n",
              "    padding: 0;\n",
              "    width: 32px;\n",
              "  }\n",
              "\n",
              "  .colab-df-quickchart:hover {\n",
              "    background-color: var(--hover-bg-color);\n",
              "    box-shadow: 0 1px 2px rgba(60, 64, 67, 0.3), 0 1px 3px 1px rgba(60, 64, 67, 0.15);\n",
              "    fill: var(--button-hover-fill-color);\n",
              "  }\n",
              "\n",
              "  .colab-df-quickchart-complete:disabled,\n",
              "  .colab-df-quickchart-complete:disabled:hover {\n",
              "    background-color: var(--disabled-bg-color);\n",
              "    fill: var(--disabled-fill-color);\n",
              "    box-shadow: none;\n",
              "  }\n",
              "\n",
              "  .colab-df-spinner {\n",
              "    border: 2px solid var(--fill-color);\n",
              "    border-color: transparent;\n",
              "    border-bottom-color: var(--fill-color);\n",
              "    animation:\n",
              "      spin 1s steps(1) infinite;\n",
              "  }\n",
              "\n",
              "  @keyframes spin {\n",
              "    0% {\n",
              "      border-color: transparent;\n",
              "      border-bottom-color: var(--fill-color);\n",
              "      border-left-color: var(--fill-color);\n",
              "    }\n",
              "    20% {\n",
              "      border-color: transparent;\n",
              "      border-left-color: var(--fill-color);\n",
              "      border-top-color: var(--fill-color);\n",
              "    }\n",
              "    30% {\n",
              "      border-color: transparent;\n",
              "      border-left-color: var(--fill-color);\n",
              "      border-top-color: var(--fill-color);\n",
              "      border-right-color: var(--fill-color);\n",
              "    }\n",
              "    40% {\n",
              "      border-color: transparent;\n",
              "      border-right-color: var(--fill-color);\n",
              "      border-top-color: var(--fill-color);\n",
              "    }\n",
              "    60% {\n",
              "      border-color: transparent;\n",
              "      border-right-color: var(--fill-color);\n",
              "    }\n",
              "    80% {\n",
              "      border-color: transparent;\n",
              "      border-right-color: var(--fill-color);\n",
              "      border-bottom-color: var(--fill-color);\n",
              "    }\n",
              "    90% {\n",
              "      border-color: transparent;\n",
              "      border-bottom-color: var(--fill-color);\n",
              "    }\n",
              "  }\n",
              "</style>\n",
              "\n",
              "  <script>\n",
              "    async function quickchart(key) {\n",
              "      const quickchartButtonEl =\n",
              "        document.querySelector('#' + key + ' button');\n",
              "      quickchartButtonEl.disabled = true;  // To prevent multiple clicks.\n",
              "      quickchartButtonEl.classList.add('colab-df-spinner');\n",
              "      try {\n",
              "        const charts = await google.colab.kernel.invokeFunction(\n",
              "            'suggestCharts', [key], {});\n",
              "      } catch (error) {\n",
              "        console.error('Error during call to suggestCharts:', error);\n",
              "      }\n",
              "      quickchartButtonEl.classList.remove('colab-df-spinner');\n",
              "      quickchartButtonEl.classList.add('colab-df-quickchart-complete');\n",
              "    }\n",
              "    (() => {\n",
              "      let quickchartButtonEl =\n",
              "        document.querySelector('#df-142e57aa-3cb6-4356-b3c0-891afc651ddc button');\n",
              "      quickchartButtonEl.style.display =\n",
              "        google.colab.kernel.accessAllowed ? 'block' : 'none';\n",
              "    })();\n",
              "  </script>\n",
              "</div>\n",
              "\n",
              "  <div id=\"id_c5f1eb53-9914-495d-b78a-a34dfbbc6579\">\n",
              "    <style>\n",
              "      .colab-df-generate {\n",
              "        background-color: #E8F0FE;\n",
              "        border: none;\n",
              "        border-radius: 50%;\n",
              "        cursor: pointer;\n",
              "        display: none;\n",
              "        fill: #1967D2;\n",
              "        height: 32px;\n",
              "        padding: 0 0 0 0;\n",
              "        width: 32px;\n",
              "      }\n",
              "\n",
              "      .colab-df-generate:hover {\n",
              "        background-color: #E2EBFA;\n",
              "        box-shadow: 0px 1px 2px rgba(60, 64, 67, 0.3), 0px 1px 3px 1px rgba(60, 64, 67, 0.15);\n",
              "        fill: #174EA6;\n",
              "      }\n",
              "\n",
              "      [theme=dark] .colab-df-generate {\n",
              "        background-color: #3B4455;\n",
              "        fill: #D2E3FC;\n",
              "      }\n",
              "\n",
              "      [theme=dark] .colab-df-generate:hover {\n",
              "        background-color: #434B5C;\n",
              "        box-shadow: 0px 1px 3px 1px rgba(0, 0, 0, 0.15);\n",
              "        filter: drop-shadow(0px 1px 2px rgba(0, 0, 0, 0.3));\n",
              "        fill: #FFFFFF;\n",
              "      }\n",
              "    </style>\n",
              "    <button class=\"colab-df-generate\" onclick=\"generateWithVariable('housing_tr')\"\n",
              "            title=\"Generate code using this dataframe.\"\n",
              "            style=\"display:none;\">\n",
              "\n",
              "  <svg xmlns=\"http://www.w3.org/2000/svg\" height=\"24px\"viewBox=\"0 0 24 24\"\n",
              "       width=\"24px\">\n",
              "    <path d=\"M7,19H8.4L18.45,9,17,7.55,7,17.6ZM5,21V16.75L18.45,3.32a2,2,0,0,1,2.83,0l1.4,1.43a1.91,1.91,0,0,1,.58,1.4,1.91,1.91,0,0,1-.58,1.4L9.25,21ZM18.45,9,17,7.55Zm-12,3A5.31,5.31,0,0,0,4.9,8.1,5.31,5.31,0,0,0,1,6.5,5.31,5.31,0,0,0,4.9,4.9,5.31,5.31,0,0,0,6.5,1,5.31,5.31,0,0,0,8.1,4.9,5.31,5.31,0,0,0,12,6.5,5.46,5.46,0,0,0,6.5,12Z\"/>\n",
              "  </svg>\n",
              "    </button>\n",
              "    <script>\n",
              "      (() => {\n",
              "      const buttonEl =\n",
              "        document.querySelector('#id_c5f1eb53-9914-495d-b78a-a34dfbbc6579 button.colab-df-generate');\n",
              "      buttonEl.style.display =\n",
              "        google.colab.kernel.accessAllowed ? 'block' : 'none';\n",
              "\n",
              "      buttonEl.onclick = () => {\n",
              "        google.colab.notebook.generateWithVariable('housing_tr');\n",
              "      }\n",
              "      })();\n",
              "    </script>\n",
              "  </div>\n",
              "\n",
              "    </div>\n",
              "  </div>\n"
            ],
            "application/vnd.google.colaboratory.intrinsic+json": {
              "type": "dataframe",
              "variable_name": "housing_tr",
              "summary": "{\n  \"name\": \"housing_tr\",\n  \"rows\": 16512,\n  \"fields\": [\n    {\n      \"column\": \"longitude\",\n      \"properties\": {\n        \"dtype\": \"number\",\n        \"std\": 2.0006241341870425,\n        \"min\": -124.35,\n        \"max\": -114.49,\n        \"num_unique_values\": 817,\n        \"samples\": [\n          -122.63,\n          -120.83,\n          -116.85\n        ],\n        \"semantic_type\": \"\",\n        \"description\": \"\"\n      }\n    },\n    {\n      \"column\": \"latitude\",\n      \"properties\": {\n        \"dtype\": \"number\",\n        \"std\": 2.1332936135800993,\n        \"min\": 32.55,\n        \"max\": 41.95,\n        \"num_unique_values\": 835,\n        \"samples\": [\n          40.81,\n          40.65,\n          39.01\n        ],\n        \"semantic_type\": \"\",\n        \"description\": \"\"\n      }\n    },\n    {\n      \"column\": \"housing_median_age\",\n      \"properties\": {\n        \"dtype\": \"number\",\n        \"std\": 12.585738187337295,\n        \"min\": 1.0,\n        \"max\": 52.0,\n        \"num_unique_values\": 52,\n        \"samples\": [\n          43.0,\n          45.0,\n          51.0\n        ],\n        \"semantic_type\": \"\",\n        \"description\": \"\"\n      }\n    },\n    {\n      \"column\": \"total_rooms\",\n      \"properties\": {\n        \"dtype\": \"number\",\n        \"std\": 2185.287466168447,\n        \"min\": 2.0,\n        \"max\": 39320.0,\n        \"num_unique_values\": 5473,\n        \"samples\": [\n          3528.0,\n          3644.0,\n          2360.0\n        ],\n        \"semantic_type\": \"\",\n        \"description\": \"\"\n      }\n    },\n    {\n      \"column\": \"total_bedrooms\",\n      \"properties\": {\n        \"dtype\": \"number\",\n        \"std\": 421.831666974935,\n        \"min\": 1.0,\n        \"max\": 6210.0,\n        \"num_unique_values\": 1827,\n        \"samples\": [\n          430.0,\n          1068.0,\n          2274.0\n        ],\n        \"semantic_type\": \"\",\n        \"description\": \"\"\n      }\n    },\n    {\n      \"column\": \"population\",\n      \"properties\": {\n        \"dtype\": \"number\",\n        \"std\": 1094.7954672830874,\n        \"min\": 3.0,\n        \"max\": 16305.0,\n        \"num_unique_values\": 3640,\n        \"samples\": [\n          1192.0,\n          2407.0,\n          1455.0\n        ],\n        \"semantic_type\": \"\",\n        \"description\": \"\"\n      }\n    },\n    {\n      \"column\": \"households\",\n      \"properties\": {\n        \"dtype\": \"number\",\n        \"std\": 382.865786919446,\n        \"min\": 1.0,\n        \"max\": 5358.0,\n        \"num_unique_values\": 1712,\n        \"samples\": [\n          488.0,\n          825.0,\n          1145.0\n        ],\n        \"semantic_type\": \"\",\n        \"description\": \"\"\n      }\n    },\n    {\n      \"column\": \"median_income\",\n      \"properties\": {\n        \"dtype\": \"number\",\n        \"std\": 1.8919358170233131,\n        \"min\": 0.4999,\n        \"max\": 15.0001,\n        \"num_unique_values\": 10930,\n        \"samples\": [\n          3.6437,\n          3.0224,\n          5.6716\n        ],\n        \"semantic_type\": \"\",\n        \"description\": \"\"\n      }\n    }\n  ]\n}"
            }
          },
          "metadata": {},
          "execution_count": 8
        }
      ],
      "source": [
        "from sklearn.impute import SimpleImputer\n",
        "\n",
        "imputer = SimpleImputer(strategy=\"median\")\n",
        "\n",
        "housing_num = X_raw.select_dtypes(include=[np.number])\n",
        "imputer.fit(housing_num)\n",
        "\n",
        "X = imputer.transform(housing_num)\n",
        "\n",
        "housing_tr = pd.DataFrame(X, columns=housing_num.columns, index=housing_num.index)\n",
        "\n",
        "housing_tr"
      ]
    },
    {
      "cell_type": "markdown",
      "metadata": {
        "id": "qkW_zv9V-g0m"
      },
      "source": [
        "## (b) Handling categorical features  [2 marks]\n",
        "ML algorithms generally work with numerical values. So, we need to convert categorical features to numerical values. One way is to simply map each category to an integer. Another alternative is to use **one-hot encoding**."
      ]
    },
    {
      "cell_type": "markdown",
      "metadata": {
        "id": "CGCP2W9S-g0m"
      },
      "source": [
        "**Task:** Read subsection \"Handling Text and Categorical Attributes\" in Chapter 2 of the textbook. Then use the `sklearn.preprocessing.OrdinalEncoder` class and the `sklearn.preprocessing.OneHotEncoder` class to transform the `ocean_proximity` feature to integers and one-hot vectors. Explain why it is more appropriate to use one-hot encoding."
      ]
    },
    {
      "cell_type": "markdown",
      "metadata": {
        "id": "jAQ-F63a-g0m"
      },
      "source": [
        "**Solution:**"
      ]
    },
    {
      "cell_type": "code",
      "execution_count": 9,
      "metadata": {
        "id": "KiVyyDM4-g0m",
        "outputId": "e55c57d4-a334-46fb-b421-8564899286e8",
        "colab": {
          "base_uri": "https://localhost:8080/",
          "height": 0
        }
      },
      "outputs": [
        {
          "output_type": "stream",
          "name": "stdout",
          "text": [
            "<Compressed Sparse Row sparse matrix of dtype 'float64'\n",
            "\twith 16512 stored elements and shape (16512, 5)>\n",
            "  Coords\tValues\n",
            "  (0, 3)\t1.0\n",
            "  (1, 0)\t1.0\n",
            "  (2, 1)\t1.0\n",
            "  (3, 1)\t1.0\n",
            "  (4, 4)\t1.0\n",
            "  (5, 1)\t1.0\n",
            "  (6, 0)\t1.0\n",
            "  (7, 3)\t1.0\n",
            "  (8, 0)\t1.0\n",
            "  (9, 0)\t1.0\n",
            "  (10, 1)\t1.0\n",
            "  (11, 0)\t1.0\n",
            "  (12, 0)\t1.0\n",
            "  (13, 1)\t1.0\n",
            "  (14, 4)\t1.0\n",
            "  (15, 0)\t1.0\n",
            "  (16, 1)\t1.0\n",
            "  (17, 3)\t1.0\n",
            "  (18, 1)\t1.0\n",
            "  (19, 0)\t1.0\n",
            "  (20, 0)\t1.0\n",
            "  (21, 4)\t1.0\n",
            "  (22, 1)\t1.0\n",
            "  (23, 3)\t1.0\n",
            "  (24, 1)\t1.0\n",
            "  :\t:\n",
            "  (16487, 1)\t1.0\n",
            "  (16488, 0)\t1.0\n",
            "  (16489, 0)\t1.0\n",
            "  (16490, 3)\t1.0\n",
            "  (16491, 1)\t1.0\n",
            "  (16492, 4)\t1.0\n",
            "  (16493, 4)\t1.0\n",
            "  (16494, 1)\t1.0\n",
            "  (16495, 0)\t1.0\n",
            "  (16496, 1)\t1.0\n",
            "  (16497, 0)\t1.0\n",
            "  (16498, 0)\t1.0\n",
            "  (16499, 4)\t1.0\n",
            "  (16500, 0)\t1.0\n",
            "  (16501, 0)\t1.0\n",
            "  (16502, 0)\t1.0\n",
            "  (16503, 0)\t1.0\n",
            "  (16504, 0)\t1.0\n",
            "  (16505, 0)\t1.0\n",
            "  (16506, 1)\t1.0\n",
            "  (16507, 0)\t1.0\n",
            "  (16508, 1)\t1.0\n",
            "  (16509, 4)\t1.0\n",
            "  (16510, 0)\t1.0\n",
            "  (16511, 4)\t1.0\n",
            "[array(['<1H OCEAN', 'INLAND', 'ISLAND', 'NEAR BAY', 'NEAR OCEAN'],\n",
            "      dtype=object)]\n",
            "[[0. 0. 0. 1. 0.]\n",
            " [1. 0. 0. 0. 0.]\n",
            " [0. 1. 0. 0. 0.]\n",
            " ...\n",
            " [0. 0. 0. 0. 1.]\n",
            " [1. 0. 0. 0. 0.]\n",
            " [0. 0. 0. 0. 1.]]\n"
          ]
        }
      ],
      "source": [
        "from sklearn.preprocessing import OrdinalEncoder\n",
        "from sklearn.preprocessing import OneHotEncoder\n",
        "\n",
        "\n",
        "housing_cat = X_raw[[\"ocean_proximity\"]]\n",
        "housing_cat.head(10)\n",
        "\n",
        "ordinal_encoder = OrdinalEncoder()\n",
        "housing_cat_encoded = ordinal_encoder.fit_transform(housing_cat)\n",
        "housing_cat_encoded[:10]\n",
        "\n",
        "cat_encoder = OneHotEncoder()\n",
        "housing_cat_1hot = cat_encoder.fit_transform(housing_cat)\n",
        "\n",
        "print(housing_cat_1hot)\n",
        "\n",
        "print(cat_encoder.categories_)\n",
        "\n",
        "print(housing_cat_1hot.toarray())"
      ]
    },
    {
      "cell_type": "markdown",
      "metadata": {
        "id": "CvDLDl38-g0m"
      },
      "source": [
        "One Hot encoding creates a binary attritbure per category and ensures that only one attribute will equal 1 (hot). The attributes <1H OCEAN, INLAND, ISLAND, NEAR BAY, and NEAR OCEAN do not have a relative order to each other and are rather independent. Ordinal encoding makes the ML algorithm assume that closer values imply a closer relationship which is false, for example <1H OCEAN and NEAR BAY are really similar. One Hot Encoding remembers which categories it was trained on."
      ]
    },
    {
      "cell_type": "markdown",
      "metadata": {
        "id": "DDQ3Uvju-g0m"
      },
      "source": [
        "## (c) Feature engineering [2 marks]\n",
        "\n",
        "Often it may be useful to experiment with transforming and combining features to create new features that may be expected to better predict the target variable. Features that are skewed or heavily tailed can be logged to make them closer to normal. An example of a feature combination is instead of using the number of bedrooms, which may not be meaningful by itself, we should consider the number of bedrooms relative to the number of rooms.\n",
        "\n",
        "**Task:** Read the subsections \"Custom Transformers\" and \"Transformation Pipelines\" in Chapter 2 of the textbook. Use the `sklearn.preprocessing.FunctionTransformer` class take the log of `population`, and to create the ratio `total_bedrooms/total_rooms`. Print these two transformed features."
      ]
    },
    {
      "cell_type": "markdown",
      "metadata": {
        "id": "Xj1f-F1X-g0m"
      },
      "source": [
        "**Solution:**"
      ]
    },
    {
      "cell_type": "code",
      "execution_count": 10,
      "metadata": {
        "id": "vNgwjNeN-g0m",
        "outputId": "3c0103b1-f1cb-4667-e536-fb52408d4b07",
        "colab": {
          "base_uri": "https://localhost:8080/",
          "height": 0
        }
      },
      "outputs": [
        {
          "output_type": "stream",
          "name": "stdout",
          "text": [
            "16512\n",
            "Log of population:\n",
            "        population\n",
            "13096    7.362645\n",
            "14973    6.501290\n",
            "3785     6.331502\n",
            "14689    7.520235\n",
            "20507    7.555905\n",
            "\n",
            "Ratio of total_bedrooms to total_rooms:\n",
            " [[0.33574225]\n",
            " [0.18015267]\n",
            " [0.20036934]\n",
            " [0.20388117]\n",
            " [0.27737059]]\n"
          ]
        }
      ],
      "source": [
        "from sklearn.preprocessing import FunctionTransformer\n",
        "import numpy as np\n",
        "\n",
        "log_transformer = FunctionTransformer(np.log, inverse_func=np.exp)\n",
        "log_pop = log_transformer.transform(housing_tr[[\"population\"]])\n",
        "\n",
        "\n",
        "ratio_transformer = FunctionTransformer(lambda X: X[:,[0]]/X[:,[1]])\n",
        "ratio_input = housing_tr[[\"total_bedrooms\",\"total_rooms\"]].values\n",
        "room_ratio = ratio_transformer.transform(ratio_input)\n",
        "\n",
        "print(len(room_ratio))\n",
        "\n",
        "\n",
        "print(\"Log of population:\\n\", log_pop[:5])\n",
        "print(\"\\nRatio of total_bedrooms to total_rooms:\\n\", room_ratio[:5])"
      ]
    },
    {
      "cell_type": "markdown",
      "metadata": {
        "id": "yHgH9bKa-g0m"
      },
      "source": [
        "## (d) Feature scaling and transformation [1 mark]\n",
        "\n",
        "Many ML algorithms do not perform well if the features have different scales (some very small, and others very large). In such scenarios, one should transform the features so that they have a similar range of values. There are two common ways to achieve this. In **min-max** scaling, we subtract the feature from its minimum value and then divide by its range (i.e. maximum value minus minimum value) so that the scaled values are between 0 and 1. In **standardization**, we subtract the values from the average and divide by the standard deviation, so that the transformed values has mean 0 and variance 1, here we focus on the latter."
      ]
    },
    {
      "cell_type": "markdown",
      "metadata": {
        "id": "kMSOTuXv-g0m"
      },
      "source": [
        "**Task:** Read the subsection \"Feature Scaling and Transformation\" in Chapter 2 of the textbook. Use the `sklearn.preprocessing.StandardScaler` class to scale the numerical features using standardization."
      ]
    },
    {
      "cell_type": "markdown",
      "metadata": {
        "id": "fJGWJnbe-g0m"
      },
      "source": [
        "**Solution:**"
      ]
    },
    {
      "cell_type": "code",
      "execution_count": 11,
      "metadata": {
        "id": "_FBidDBh-g0m",
        "outputId": "62c74eab-6d2c-494e-c551-d01eb0296185",
        "colab": {
          "base_uri": "https://localhost:8080/",
          "height": 0
        }
      },
      "outputs": [
        {
          "output_type": "execute_result",
          "data": {
            "text/plain": [
              "array([[-1.42303652,  1.0136059 ,  1.86111875, ...,  0.13746004,\n",
              "         1.39481249, -0.93649149],\n",
              "       [ 0.59639445, -0.702103  ,  0.90762971, ..., -0.69377062,\n",
              "        -0.37348471,  1.17194198],\n",
              "       [-1.2030985 ,  1.27611874,  0.35142777, ..., -0.78876841,\n",
              "        -0.77572662, -0.75978881],\n",
              "       ...,\n",
              "       [ 1.25620853, -1.42870103, -1.23772062, ...,  1.26829911,\n",
              "         0.67913534,  0.1010487 ],\n",
              "       [ 0.58639727, -0.73960483,  0.66925745, ...,  0.27356264,\n",
              "         0.88286825,  0.14539615],\n",
              "       [-1.41803793,  0.94797769,  1.22545939, ..., -0.67915557,\n",
              "        -0.75221898, -0.31034135]])"
            ]
          },
          "metadata": {},
          "execution_count": 11
        }
      ],
      "source": [
        "from sklearn.preprocessing import StandardScaler\n",
        "\n",
        "std_scaler = StandardScaler()\n",
        "housing_num_tr_std_scaled = std_scaler.fit_transform(housing_tr)\n",
        "housing_num_tr_std_scaled\n"
      ]
    },
    {
      "cell_type": "markdown",
      "metadata": {
        "id": "rqrn84dO-g0m"
      },
      "source": [
        "## (e) Transformation pipelines [4 marks]\n",
        "\n",
        "Usually, we have to perform several steps before the data is ready to be fed to an ML algorithm. Scikit-Learn's `ColumnTransformer` and `Pipeline` classes provides a systematic way of \"packaging\" such a sequence of transformations.\n",
        "\n",
        "**Task:** Read the subsection \"Transformation Pipelines\" in Chapter 2 of the textbook. Then create one pipeline that combines the above steps  in the following way applied to the original \"raw\" features `X_raw`: part (a) (a median imputer for numerical features), part (c) (create the ratios `total_bedrooms/total_rooms`, `total_rooms/households`, `population/households`; and take the log of `total_bedrooms`, `total_rooms`, `population`, `households`, `median_income`), part (d) (a standard scaler for all numerical features, including the transformed features), part (b) (one-hot encoding for categorical variables). Call your transformed features `X`, and print it."
      ]
    },
    {
      "cell_type": "markdown",
      "metadata": {
        "id": "qyFhbB59-g0m"
      },
      "source": [
        "**Solution:**"
      ]
    },
    {
      "cell_type": "code",
      "execution_count": 12,
      "metadata": {
        "id": "pXOgWz6Z-g0m",
        "outputId": "ac2492c7-ea54-4fb0-d940-8c95f2196d71",
        "colab": {
          "base_uri": "https://localhost:8080/",
          "height": 0
        }
      },
      "outputs": [
        {
          "output_type": "stream",
          "name": "stdout",
          "text": [
            "             0         1         2         3         4         5         6   \\\n",
            "0      1.846624 -0.866027 -0.330204  1.324114  0.637892  0.456906  1.310369   \n",
            "1     -0.508121  0.024550 -0.253616 -0.252671 -0.063576 -0.711654 -0.142030   \n",
            "2     -0.202155 -0.041193 -0.051041 -0.925266 -0.859927 -0.941997 -0.913030   \n",
            "3     -0.149006 -0.034858 -0.141475  0.952773  0.943475  0.670700  0.925373   \n",
            "4      0.963208 -0.666554 -0.306148  1.437622  1.003590  0.719093  1.481464   \n",
            "...         ...       ...       ...       ...       ...       ...       ...   \n",
            "16507  0.804368 -0.452111 -0.269780  0.465581  0.109720 -0.247054  0.379471   \n",
            "16508 -0.192328  0.036792 -0.073741  0.454022  0.477277  0.314542  0.402773   \n",
            "16509 -0.242492 -0.109987  0.158542  0.824206  0.859552  1.243381  0.889897   \n",
            "16510  0.259775 -0.360937 -0.210332  0.987851  0.811293  0.579462  1.023329   \n",
            "16511  3.612710 -1.323972  0.049584 -1.072179 -2.091543 -0.679447 -0.853784   \n",
            "\n",
            "             7    8    9    10   11   12        13        14        15  \n",
            "0     -1.071522  0.0  0.0  0.0  1.0  0.0 -1.423037  1.013606  1.861119  \n",
            "1      1.194712  1.0  0.0  0.0  0.0  0.0  0.596394 -0.702103  0.907630  \n",
            "2     -0.756981  0.0  1.0  0.0  0.0  0.0 -1.203098  1.276119  0.351428  \n",
            "3     -0.912253  0.0  1.0  0.0  0.0  0.0  1.231216 -0.884924 -0.919891  \n",
            "4      0.034537  0.0  0.0  0.0  0.0  1.0  0.711362 -0.875549  0.589800  \n",
            "...         ...  ...  ...  ...  ...  ...       ...       ...       ...  \n",
            "16507  0.648953  1.0  0.0  0.0  0.0  0.0  0.586397 -0.833359  0.987087  \n",
            "16508 -0.637675  0.0  1.0  0.0  0.0  0.0  0.131525  0.319822 -0.443146  \n",
            "16509  0.333540  0.0  0.0  0.0  0.0  1.0  1.256209 -1.428701 -1.237721  \n",
            "16510  0.377051  1.0  0.0  0.0  0.0  0.0  0.586397 -0.739605  0.669257  \n",
            "16511 -0.119155  0.0  0.0  0.0  0.0  1.0 -1.418038  0.947978  1.225459  \n",
            "\n",
            "[16512 rows x 16 columns]\n",
            "Shape:  (16512, 16)\n"
          ]
        },
        {
          "output_type": "execute_result",
          "data": {
            "text/plain": [
              "array(['bedrooms__ratio', 'rooms_per_house__ratio',\n",
              "       'people_per_house__ratio', 'log__total_bedrooms',\n",
              "       'log__total_rooms', 'log__population', 'log__households',\n",
              "       'log__median_income', 'cat__ocean_proximity_<1H OCEAN',\n",
              "       'cat__ocean_proximity_INLAND', 'cat__ocean_proximity_ISLAND',\n",
              "       'cat__ocean_proximity_NEAR BAY', 'cat__ocean_proximity_NEAR OCEAN',\n",
              "       'remainder__longitude', 'remainder__latitude',\n",
              "       'remainder__housing_median_age'], dtype=object)"
            ]
          },
          "metadata": {},
          "execution_count": 12
        }
      ],
      "source": [
        "from sklearn.pipeline import Pipeline, make_pipeline\n",
        "from sklearn.compose import ColumnTransformer\n",
        "from sklearn.compose import make_column_selector\n",
        "\n",
        "\n",
        "num_attribs = [\"longitude\", \"latitude\", \"housing_median_age\", \"total_rooms\", \"total_bedrooms\", \"population\", \"households\", \"median_income\"]\n",
        "cat_attribs = [\"ocean_proximity\"]\n",
        "\n",
        "def column_ratio(X):\n",
        "    return X[:, [0]] / X[:, [1]]\n",
        "def ratio_name(function_transformer, feature_names_in):\n",
        "    return [\"ratio\"]\n",
        "def ratio_pipeline():\n",
        "    return make_pipeline(SimpleImputer(strategy=\"median\"), FunctionTransformer(column_ratio, feature_names_out=ratio_name), StandardScaler())\n",
        "\n",
        "cat_pipeline = make_pipeline(SimpleImputer(strategy=\"most_frequent\"), OneHotEncoder(handle_unknown=\"ignore\"))\n",
        "\n",
        "log_pipeline = make_pipeline(SimpleImputer(strategy=\"median\"), FunctionTransformer(np.log, feature_names_out=\"one-to-one\"), StandardScaler())\n",
        "\n",
        "default_num_pipeline = make_pipeline(SimpleImputer(strategy=\"median\"), StandardScaler())\n",
        "\n",
        "preprocessing = ColumnTransformer([\n",
        "    (\"bedrooms\", ratio_pipeline(), [\"total_bedrooms\", \"total_rooms\"]), (\n",
        "    \"rooms_per_house\", ratio_pipeline(), [\"total_rooms\", \"households\"]),\n",
        "    (\"people_per_house\", ratio_pipeline(), [\"population\", \"households\"]),\n",
        "    (\"log\", log_pipeline, [\"total_bedrooms\", \"total_rooms\", \"population\", \"households\", \"median_income\"]),\n",
        "    (\"cat\", cat_pipeline, make_column_selector(dtype_include=object)),\n",
        "    ],\n",
        "    remainder=default_num_pipeline)\n",
        "\n",
        "\n",
        "X = preprocessing.fit_transform(X_raw)\n",
        "print(pd.DataFrame(X))\n",
        "print(\"Shape: \", X.shape)\n",
        "preprocessing.get_feature_names_out()\n"
      ]
    },
    {
      "cell_type": "markdown",
      "metadata": {
        "id": "x1hm8Iw0-g0m"
      },
      "source": [
        "# 2. Fine-tuning models [16 marks]\n",
        "\n",
        "Hint: Reading Chapter 2 of the textbook and the accompanying [Jupyter notebook](https://github.com/ageron/handson-ml3/blob/main/02_end_to_end_machine_learning_project.ipynb) on the textbook website may help with this question."
      ]
    },
    {
      "cell_type": "markdown",
      "metadata": {
        "id": "FVOhN2Xk-g0m"
      },
      "source": [
        "## (a) Linear regression [2 marks]\n",
        "\n",
        "**Task:** Use the `sklearn.linear_model.LinearRegression` class to fit a linear regression to the training set in Question 1. Use the processed features `X` that you obtained in 1(e) as predictors and `y` (the median house values) as the response. Return fitted values of the response for the first 10 observations of the training set."
      ]
    },
    {
      "cell_type": "markdown",
      "metadata": {
        "id": "vEv1srm1-g0m"
      },
      "source": [
        "**Solution:**"
      ]
    },
    {
      "cell_type": "code",
      "execution_count": 13,
      "metadata": {
        "id": "z2kwtYEX-g0m",
        "outputId": "74a2d3bb-4efd-4a4e-d92d-746eeb212d4b",
        "colab": {
          "base_uri": "https://localhost:8080/",
          "height": 0
        }
      },
      "outputs": [
        {
          "output_type": "stream",
          "name": "stdout",
          "text": [
            "Fitted values for first 10 observations of training set\n",
            "[260100. 357900. 125800. 110000. 298900. 206400. 306800. 326900. 162300.\n",
            "  68800.]\n"
          ]
        }
      ],
      "source": [
        "from sklearn.linear_model import LinearRegression\n",
        "from sklearn.pipeline import make_pipeline\n",
        "\n",
        "lin_reg = LinearRegression()\n",
        "lin_reg.fit(X, y)\n",
        "housing_predictions = lin_reg.predict(X)\n",
        "print(\"Fitted values for first 10 observations of training set\")\n",
        "print(housing_predictions[:10].round(-2))"
      ]
    },
    {
      "cell_type": "markdown",
      "metadata": {
        "id": "hzCxkqza-g0m"
      },
      "source": [
        "## (b) RMSE and MAE  [2 marks]\n",
        "\n",
        "We can measure the performance with root mean square error (RMSE) and mean absolute error (MAE).\n",
        "\n",
        "**Task:** Use `mean_squared_error` and `mean_absolute_error` functions from `sklearn.metrics` to calculate the in-sample RMSE and MAE of the linear regression that you fit in part (a)."
      ]
    },
    {
      "cell_type": "markdown",
      "metadata": {
        "id": "3iSk4xMZ-g0m"
      },
      "source": [
        "**Solution:**"
      ]
    },
    {
      "cell_type": "code",
      "execution_count": 14,
      "metadata": {
        "id": "eI8CxShy-g0m",
        "outputId": "5bfbc5e5-d1d4-4fcd-e03f-9789846a0294",
        "colab": {
          "base_uri": "https://localhost:8080/",
          "height": 0
        }
      },
      "outputs": [
        {
          "output_type": "stream",
          "name": "stdout",
          "text": [
            "In-sample RMSE:  70630.22169174394\n",
            "In-sample MAE:  53034.28396497742\n"
          ]
        }
      ],
      "source": [
        "from sklearn.metrics import mean_squared_error, mean_absolute_error\n",
        "\n",
        "lin_rmse = np.sqrt(mean_squared_error(y,housing_predictions))\n",
        "lin_mae = mean_absolute_error(y, housing_predictions)\n",
        "print(\"In-sample RMSE: \", lin_rmse)\n",
        "print(\"In-sample MAE: \", lin_mae)"
      ]
    },
    {
      "cell_type": "markdown",
      "metadata": {
        "id": "OCZTVWTi-g0n"
      },
      "source": [
        "## (c) Cross validation  [3 marks]\n",
        "\n",
        "In part (b), we evaluated the in-sample performance of the linear regression model. To obtain out-of-sample performance, we use K-fold cross validation.\n",
        "\n",
        "**Task:** Use the `cross_val_score` function from `sklearn.model_selection` to perform 10-fold  cross validation on the linear regression from part (a) and return the values of **RMSE**. Return the 10 RMSE scores as well as their mean."
      ]
    },
    {
      "cell_type": "code",
      "execution_count": 15,
      "metadata": {
        "id": "AFmdgnUg-g0n",
        "outputId": "3ee56b94-1fc1-4557-b9e1-35180a3078fc",
        "colab": {
          "base_uri": "https://localhost:8080/",
          "height": 0
        }
      },
      "outputs": [
        {
          "output_type": "stream",
          "name": "stdout",
          "text": [
            "10-fold RMSE scores: [72183.9055149  69449.07233135 68141.82330925 82348.92814938\n",
            " 70200.08524327 70974.12115166 70512.16910063 73276.85042458\n",
            " 69387.52951303 71463.70091766]\n",
            "Mean RMSE: 71793.81856557204\n"
          ]
        }
      ],
      "source": [
        "from sklearn.model_selection import cross_val_score\n",
        "from sklearn.metrics import mean_squared_error\n",
        "import numpy as np\n",
        "\n",
        "lin_reg_cv = LinearRegression()\n",
        "\n",
        "neg_mse_scores = cross_val_score(lin_reg_cv, X, y, scoring='neg_mean_squared_error', cv=10)\n",
        "rmse_scores = np.sqrt(-neg_mse_scores)\n",
        "\n",
        "print(\"10-fold RMSE scores:\", rmse_scores)\n",
        "print(\"Mean RMSE:\", rmse_scores.mean())"
      ]
    },
    {
      "cell_type": "markdown",
      "metadata": {
        "id": "HZXw5XIw-g0n"
      },
      "source": [
        "**Solution:**"
      ]
    },
    {
      "cell_type": "markdown",
      "metadata": {
        "id": "X3IByqyo-g0s"
      },
      "source": [
        "## (d) Alternatives to linear regression [3 marks]\n",
        "Let us consider fitting two alternative models, namely, **decision trees** and **random forests**. These models will be discussed in future lectures. The following code fits a decision tree and obtains the fitted response for the first 10 observations."
      ]
    },
    {
      "cell_type": "code",
      "execution_count": 16,
      "metadata": {
        "id": "-2myy5M--g0s",
        "outputId": "33b14143-f329-4abe-a44f-7b99fd802fcd",
        "colab": {
          "base_uri": "https://localhost:8080/",
          "height": 80
        }
      },
      "outputs": [
        {
          "output_type": "execute_result",
          "data": {
            "text/plain": [
              "DecisionTreeRegressor(random_state=42)"
            ],
            "text/html": [
              "<style>#sk-container-id-1 {\n",
              "  /* Definition of color scheme common for light and dark mode */\n",
              "  --sklearn-color-text: #000;\n",
              "  --sklearn-color-text-muted: #666;\n",
              "  --sklearn-color-line: gray;\n",
              "  /* Definition of color scheme for unfitted estimators */\n",
              "  --sklearn-color-unfitted-level-0: #fff5e6;\n",
              "  --sklearn-color-unfitted-level-1: #f6e4d2;\n",
              "  --sklearn-color-unfitted-level-2: #ffe0b3;\n",
              "  --sklearn-color-unfitted-level-3: chocolate;\n",
              "  /* Definition of color scheme for fitted estimators */\n",
              "  --sklearn-color-fitted-level-0: #f0f8ff;\n",
              "  --sklearn-color-fitted-level-1: #d4ebff;\n",
              "  --sklearn-color-fitted-level-2: #b3dbfd;\n",
              "  --sklearn-color-fitted-level-3: cornflowerblue;\n",
              "\n",
              "  /* Specific color for light theme */\n",
              "  --sklearn-color-text-on-default-background: var(--sg-text-color, var(--theme-code-foreground, var(--jp-content-font-color1, black)));\n",
              "  --sklearn-color-background: var(--sg-background-color, var(--theme-background, var(--jp-layout-color0, white)));\n",
              "  --sklearn-color-border-box: var(--sg-text-color, var(--theme-code-foreground, var(--jp-content-font-color1, black)));\n",
              "  --sklearn-color-icon: #696969;\n",
              "\n",
              "  @media (prefers-color-scheme: dark) {\n",
              "    /* Redefinition of color scheme for dark theme */\n",
              "    --sklearn-color-text-on-default-background: var(--sg-text-color, var(--theme-code-foreground, var(--jp-content-font-color1, white)));\n",
              "    --sklearn-color-background: var(--sg-background-color, var(--theme-background, var(--jp-layout-color0, #111)));\n",
              "    --sklearn-color-border-box: var(--sg-text-color, var(--theme-code-foreground, var(--jp-content-font-color1, white)));\n",
              "    --sklearn-color-icon: #878787;\n",
              "  }\n",
              "}\n",
              "\n",
              "#sk-container-id-1 {\n",
              "  color: var(--sklearn-color-text);\n",
              "}\n",
              "\n",
              "#sk-container-id-1 pre {\n",
              "  padding: 0;\n",
              "}\n",
              "\n",
              "#sk-container-id-1 input.sk-hidden--visually {\n",
              "  border: 0;\n",
              "  clip: rect(1px 1px 1px 1px);\n",
              "  clip: rect(1px, 1px, 1px, 1px);\n",
              "  height: 1px;\n",
              "  margin: -1px;\n",
              "  overflow: hidden;\n",
              "  padding: 0;\n",
              "  position: absolute;\n",
              "  width: 1px;\n",
              "}\n",
              "\n",
              "#sk-container-id-1 div.sk-dashed-wrapped {\n",
              "  border: 1px dashed var(--sklearn-color-line);\n",
              "  margin: 0 0.4em 0.5em 0.4em;\n",
              "  box-sizing: border-box;\n",
              "  padding-bottom: 0.4em;\n",
              "  background-color: var(--sklearn-color-background);\n",
              "}\n",
              "\n",
              "#sk-container-id-1 div.sk-container {\n",
              "  /* jupyter's `normalize.less` sets `[hidden] { display: none; }`\n",
              "     but bootstrap.min.css set `[hidden] { display: none !important; }`\n",
              "     so we also need the `!important` here to be able to override the\n",
              "     default hidden behavior on the sphinx rendered scikit-learn.org.\n",
              "     See: https://github.com/scikit-learn/scikit-learn/issues/21755 */\n",
              "  display: inline-block !important;\n",
              "  position: relative;\n",
              "}\n",
              "\n",
              "#sk-container-id-1 div.sk-text-repr-fallback {\n",
              "  display: none;\n",
              "}\n",
              "\n",
              "div.sk-parallel-item,\n",
              "div.sk-serial,\n",
              "div.sk-item {\n",
              "  /* draw centered vertical line to link estimators */\n",
              "  background-image: linear-gradient(var(--sklearn-color-text-on-default-background), var(--sklearn-color-text-on-default-background));\n",
              "  background-size: 2px 100%;\n",
              "  background-repeat: no-repeat;\n",
              "  background-position: center center;\n",
              "}\n",
              "\n",
              "/* Parallel-specific style estimator block */\n",
              "\n",
              "#sk-container-id-1 div.sk-parallel-item::after {\n",
              "  content: \"\";\n",
              "  width: 100%;\n",
              "  border-bottom: 2px solid var(--sklearn-color-text-on-default-background);\n",
              "  flex-grow: 1;\n",
              "}\n",
              "\n",
              "#sk-container-id-1 div.sk-parallel {\n",
              "  display: flex;\n",
              "  align-items: stretch;\n",
              "  justify-content: center;\n",
              "  background-color: var(--sklearn-color-background);\n",
              "  position: relative;\n",
              "}\n",
              "\n",
              "#sk-container-id-1 div.sk-parallel-item {\n",
              "  display: flex;\n",
              "  flex-direction: column;\n",
              "}\n",
              "\n",
              "#sk-container-id-1 div.sk-parallel-item:first-child::after {\n",
              "  align-self: flex-end;\n",
              "  width: 50%;\n",
              "}\n",
              "\n",
              "#sk-container-id-1 div.sk-parallel-item:last-child::after {\n",
              "  align-self: flex-start;\n",
              "  width: 50%;\n",
              "}\n",
              "\n",
              "#sk-container-id-1 div.sk-parallel-item:only-child::after {\n",
              "  width: 0;\n",
              "}\n",
              "\n",
              "/* Serial-specific style estimator block */\n",
              "\n",
              "#sk-container-id-1 div.sk-serial {\n",
              "  display: flex;\n",
              "  flex-direction: column;\n",
              "  align-items: center;\n",
              "  background-color: var(--sklearn-color-background);\n",
              "  padding-right: 1em;\n",
              "  padding-left: 1em;\n",
              "}\n",
              "\n",
              "\n",
              "/* Toggleable style: style used for estimator/Pipeline/ColumnTransformer box that is\n",
              "clickable and can be expanded/collapsed.\n",
              "- Pipeline and ColumnTransformer use this feature and define the default style\n",
              "- Estimators will overwrite some part of the style using the `sk-estimator` class\n",
              "*/\n",
              "\n",
              "/* Pipeline and ColumnTransformer style (default) */\n",
              "\n",
              "#sk-container-id-1 div.sk-toggleable {\n",
              "  /* Default theme specific background. It is overwritten whether we have a\n",
              "  specific estimator or a Pipeline/ColumnTransformer */\n",
              "  background-color: var(--sklearn-color-background);\n",
              "}\n",
              "\n",
              "/* Toggleable label */\n",
              "#sk-container-id-1 label.sk-toggleable__label {\n",
              "  cursor: pointer;\n",
              "  display: flex;\n",
              "  width: 100%;\n",
              "  margin-bottom: 0;\n",
              "  padding: 0.5em;\n",
              "  box-sizing: border-box;\n",
              "  text-align: center;\n",
              "  align-items: start;\n",
              "  justify-content: space-between;\n",
              "  gap: 0.5em;\n",
              "}\n",
              "\n",
              "#sk-container-id-1 label.sk-toggleable__label .caption {\n",
              "  font-size: 0.6rem;\n",
              "  font-weight: lighter;\n",
              "  color: var(--sklearn-color-text-muted);\n",
              "}\n",
              "\n",
              "#sk-container-id-1 label.sk-toggleable__label-arrow:before {\n",
              "  /* Arrow on the left of the label */\n",
              "  content: \"▸\";\n",
              "  float: left;\n",
              "  margin-right: 0.25em;\n",
              "  color: var(--sklearn-color-icon);\n",
              "}\n",
              "\n",
              "#sk-container-id-1 label.sk-toggleable__label-arrow:hover:before {\n",
              "  color: var(--sklearn-color-text);\n",
              "}\n",
              "\n",
              "/* Toggleable content - dropdown */\n",
              "\n",
              "#sk-container-id-1 div.sk-toggleable__content {\n",
              "  max-height: 0;\n",
              "  max-width: 0;\n",
              "  overflow: hidden;\n",
              "  text-align: left;\n",
              "  /* unfitted */\n",
              "  background-color: var(--sklearn-color-unfitted-level-0);\n",
              "}\n",
              "\n",
              "#sk-container-id-1 div.sk-toggleable__content.fitted {\n",
              "  /* fitted */\n",
              "  background-color: var(--sklearn-color-fitted-level-0);\n",
              "}\n",
              "\n",
              "#sk-container-id-1 div.sk-toggleable__content pre {\n",
              "  margin: 0.2em;\n",
              "  border-radius: 0.25em;\n",
              "  color: var(--sklearn-color-text);\n",
              "  /* unfitted */\n",
              "  background-color: var(--sklearn-color-unfitted-level-0);\n",
              "}\n",
              "\n",
              "#sk-container-id-1 div.sk-toggleable__content.fitted pre {\n",
              "  /* unfitted */\n",
              "  background-color: var(--sklearn-color-fitted-level-0);\n",
              "}\n",
              "\n",
              "#sk-container-id-1 input.sk-toggleable__control:checked~div.sk-toggleable__content {\n",
              "  /* Expand drop-down */\n",
              "  max-height: 200px;\n",
              "  max-width: 100%;\n",
              "  overflow: auto;\n",
              "}\n",
              "\n",
              "#sk-container-id-1 input.sk-toggleable__control:checked~label.sk-toggleable__label-arrow:before {\n",
              "  content: \"▾\";\n",
              "}\n",
              "\n",
              "/* Pipeline/ColumnTransformer-specific style */\n",
              "\n",
              "#sk-container-id-1 div.sk-label input.sk-toggleable__control:checked~label.sk-toggleable__label {\n",
              "  color: var(--sklearn-color-text);\n",
              "  background-color: var(--sklearn-color-unfitted-level-2);\n",
              "}\n",
              "\n",
              "#sk-container-id-1 div.sk-label.fitted input.sk-toggleable__control:checked~label.sk-toggleable__label {\n",
              "  background-color: var(--sklearn-color-fitted-level-2);\n",
              "}\n",
              "\n",
              "/* Estimator-specific style */\n",
              "\n",
              "/* Colorize estimator box */\n",
              "#sk-container-id-1 div.sk-estimator input.sk-toggleable__control:checked~label.sk-toggleable__label {\n",
              "  /* unfitted */\n",
              "  background-color: var(--sklearn-color-unfitted-level-2);\n",
              "}\n",
              "\n",
              "#sk-container-id-1 div.sk-estimator.fitted input.sk-toggleable__control:checked~label.sk-toggleable__label {\n",
              "  /* fitted */\n",
              "  background-color: var(--sklearn-color-fitted-level-2);\n",
              "}\n",
              "\n",
              "#sk-container-id-1 div.sk-label label.sk-toggleable__label,\n",
              "#sk-container-id-1 div.sk-label label {\n",
              "  /* The background is the default theme color */\n",
              "  color: var(--sklearn-color-text-on-default-background);\n",
              "}\n",
              "\n",
              "/* On hover, darken the color of the background */\n",
              "#sk-container-id-1 div.sk-label:hover label.sk-toggleable__label {\n",
              "  color: var(--sklearn-color-text);\n",
              "  background-color: var(--sklearn-color-unfitted-level-2);\n",
              "}\n",
              "\n",
              "/* Label box, darken color on hover, fitted */\n",
              "#sk-container-id-1 div.sk-label.fitted:hover label.sk-toggleable__label.fitted {\n",
              "  color: var(--sklearn-color-text);\n",
              "  background-color: var(--sklearn-color-fitted-level-2);\n",
              "}\n",
              "\n",
              "/* Estimator label */\n",
              "\n",
              "#sk-container-id-1 div.sk-label label {\n",
              "  font-family: monospace;\n",
              "  font-weight: bold;\n",
              "  display: inline-block;\n",
              "  line-height: 1.2em;\n",
              "}\n",
              "\n",
              "#sk-container-id-1 div.sk-label-container {\n",
              "  text-align: center;\n",
              "}\n",
              "\n",
              "/* Estimator-specific */\n",
              "#sk-container-id-1 div.sk-estimator {\n",
              "  font-family: monospace;\n",
              "  border: 1px dotted var(--sklearn-color-border-box);\n",
              "  border-radius: 0.25em;\n",
              "  box-sizing: border-box;\n",
              "  margin-bottom: 0.5em;\n",
              "  /* unfitted */\n",
              "  background-color: var(--sklearn-color-unfitted-level-0);\n",
              "}\n",
              "\n",
              "#sk-container-id-1 div.sk-estimator.fitted {\n",
              "  /* fitted */\n",
              "  background-color: var(--sklearn-color-fitted-level-0);\n",
              "}\n",
              "\n",
              "/* on hover */\n",
              "#sk-container-id-1 div.sk-estimator:hover {\n",
              "  /* unfitted */\n",
              "  background-color: var(--sklearn-color-unfitted-level-2);\n",
              "}\n",
              "\n",
              "#sk-container-id-1 div.sk-estimator.fitted:hover {\n",
              "  /* fitted */\n",
              "  background-color: var(--sklearn-color-fitted-level-2);\n",
              "}\n",
              "\n",
              "/* Specification for estimator info (e.g. \"i\" and \"?\") */\n",
              "\n",
              "/* Common style for \"i\" and \"?\" */\n",
              "\n",
              ".sk-estimator-doc-link,\n",
              "a:link.sk-estimator-doc-link,\n",
              "a:visited.sk-estimator-doc-link {\n",
              "  float: right;\n",
              "  font-size: smaller;\n",
              "  line-height: 1em;\n",
              "  font-family: monospace;\n",
              "  background-color: var(--sklearn-color-background);\n",
              "  border-radius: 1em;\n",
              "  height: 1em;\n",
              "  width: 1em;\n",
              "  text-decoration: none !important;\n",
              "  margin-left: 0.5em;\n",
              "  text-align: center;\n",
              "  /* unfitted */\n",
              "  border: var(--sklearn-color-unfitted-level-1) 1pt solid;\n",
              "  color: var(--sklearn-color-unfitted-level-1);\n",
              "}\n",
              "\n",
              ".sk-estimator-doc-link.fitted,\n",
              "a:link.sk-estimator-doc-link.fitted,\n",
              "a:visited.sk-estimator-doc-link.fitted {\n",
              "  /* fitted */\n",
              "  border: var(--sklearn-color-fitted-level-1) 1pt solid;\n",
              "  color: var(--sklearn-color-fitted-level-1);\n",
              "}\n",
              "\n",
              "/* On hover */\n",
              "div.sk-estimator:hover .sk-estimator-doc-link:hover,\n",
              ".sk-estimator-doc-link:hover,\n",
              "div.sk-label-container:hover .sk-estimator-doc-link:hover,\n",
              ".sk-estimator-doc-link:hover {\n",
              "  /* unfitted */\n",
              "  background-color: var(--sklearn-color-unfitted-level-3);\n",
              "  color: var(--sklearn-color-background);\n",
              "  text-decoration: none;\n",
              "}\n",
              "\n",
              "div.sk-estimator.fitted:hover .sk-estimator-doc-link.fitted:hover,\n",
              ".sk-estimator-doc-link.fitted:hover,\n",
              "div.sk-label-container:hover .sk-estimator-doc-link.fitted:hover,\n",
              ".sk-estimator-doc-link.fitted:hover {\n",
              "  /* fitted */\n",
              "  background-color: var(--sklearn-color-fitted-level-3);\n",
              "  color: var(--sklearn-color-background);\n",
              "  text-decoration: none;\n",
              "}\n",
              "\n",
              "/* Span, style for the box shown on hovering the info icon */\n",
              ".sk-estimator-doc-link span {\n",
              "  display: none;\n",
              "  z-index: 9999;\n",
              "  position: relative;\n",
              "  font-weight: normal;\n",
              "  right: .2ex;\n",
              "  padding: .5ex;\n",
              "  margin: .5ex;\n",
              "  width: min-content;\n",
              "  min-width: 20ex;\n",
              "  max-width: 50ex;\n",
              "  color: var(--sklearn-color-text);\n",
              "  box-shadow: 2pt 2pt 4pt #999;\n",
              "  /* unfitted */\n",
              "  background: var(--sklearn-color-unfitted-level-0);\n",
              "  border: .5pt solid var(--sklearn-color-unfitted-level-3);\n",
              "}\n",
              "\n",
              ".sk-estimator-doc-link.fitted span {\n",
              "  /* fitted */\n",
              "  background: var(--sklearn-color-fitted-level-0);\n",
              "  border: var(--sklearn-color-fitted-level-3);\n",
              "}\n",
              "\n",
              ".sk-estimator-doc-link:hover span {\n",
              "  display: block;\n",
              "}\n",
              "\n",
              "/* \"?\"-specific style due to the `<a>` HTML tag */\n",
              "\n",
              "#sk-container-id-1 a.estimator_doc_link {\n",
              "  float: right;\n",
              "  font-size: 1rem;\n",
              "  line-height: 1em;\n",
              "  font-family: monospace;\n",
              "  background-color: var(--sklearn-color-background);\n",
              "  border-radius: 1rem;\n",
              "  height: 1rem;\n",
              "  width: 1rem;\n",
              "  text-decoration: none;\n",
              "  /* unfitted */\n",
              "  color: var(--sklearn-color-unfitted-level-1);\n",
              "  border: var(--sklearn-color-unfitted-level-1) 1pt solid;\n",
              "}\n",
              "\n",
              "#sk-container-id-1 a.estimator_doc_link.fitted {\n",
              "  /* fitted */\n",
              "  border: var(--sklearn-color-fitted-level-1) 1pt solid;\n",
              "  color: var(--sklearn-color-fitted-level-1);\n",
              "}\n",
              "\n",
              "/* On hover */\n",
              "#sk-container-id-1 a.estimator_doc_link:hover {\n",
              "  /* unfitted */\n",
              "  background-color: var(--sklearn-color-unfitted-level-3);\n",
              "  color: var(--sklearn-color-background);\n",
              "  text-decoration: none;\n",
              "}\n",
              "\n",
              "#sk-container-id-1 a.estimator_doc_link.fitted:hover {\n",
              "  /* fitted */\n",
              "  background-color: var(--sklearn-color-fitted-level-3);\n",
              "}\n",
              "</style><div id=\"sk-container-id-1\" class=\"sk-top-container\"><div class=\"sk-text-repr-fallback\"><pre>DecisionTreeRegressor(random_state=42)</pre><b>In a Jupyter environment, please rerun this cell to show the HTML representation or trust the notebook. <br />On GitHub, the HTML representation is unable to render, please try loading this page with nbviewer.org.</b></div><div class=\"sk-container\" hidden><div class=\"sk-item\"><div class=\"sk-estimator fitted sk-toggleable\"><input class=\"sk-toggleable__control sk-hidden--visually\" id=\"sk-estimator-id-1\" type=\"checkbox\" checked><label for=\"sk-estimator-id-1\" class=\"sk-toggleable__label fitted sk-toggleable__label-arrow\"><div><div>DecisionTreeRegressor</div></div><div><a class=\"sk-estimator-doc-link fitted\" rel=\"noreferrer\" target=\"_blank\" href=\"https://scikit-learn.org/1.6/modules/generated/sklearn.tree.DecisionTreeRegressor.html\">?<span>Documentation for DecisionTreeRegressor</span></a><span class=\"sk-estimator-doc-link fitted\">i<span>Fitted</span></span></div></label><div class=\"sk-toggleable__content fitted\"><pre>DecisionTreeRegressor(random_state=42)</pre></div> </div></div></div></div>"
            ]
          },
          "metadata": {},
          "execution_count": 16
        }
      ],
      "source": [
        "from sklearn.tree import DecisionTreeRegressor\n",
        "dt_reg = DecisionTreeRegressor(random_state=42)\n",
        "dt_reg.fit(X,y)"
      ]
    },
    {
      "cell_type": "code",
      "execution_count": 17,
      "metadata": {
        "run_control": {
          "marked": true
        },
        "scrolled": true,
        "id": "JqQsFtjF-g0s",
        "outputId": "f26c033a-7555-4aef-c379-4f8d285c71bb",
        "colab": {
          "base_uri": "https://localhost:8080/",
          "height": 0
        }
      },
      "outputs": [
        {
          "output_type": "execute_result",
          "data": {
            "text/plain": [
              "array([458300., 483800., 101700.,  96100., 361800.,  92600., 349300.,\n",
              "       440900., 160100., 183900.])"
            ]
          },
          "metadata": {},
          "execution_count": 17
        }
      ],
      "source": [
        "dt_reg.predict(X[:10,])"
      ]
    },
    {
      "cell_type": "markdown",
      "metadata": {
        "id": "1zjDkpta-g0s"
      },
      "source": [
        "The following code does the same for the random forest model."
      ]
    },
    {
      "cell_type": "code",
      "execution_count": 18,
      "metadata": {
        "run_control": {
          "marked": true
        },
        "id": "tArIm0oC-g0s",
        "outputId": "19eaa67c-6654-40c7-a8de-c6ebe6017ea3",
        "colab": {
          "base_uri": "https://localhost:8080/",
          "height": 80
        }
      },
      "outputs": [
        {
          "output_type": "execute_result",
          "data": {
            "text/plain": [
              "RandomForestRegressor(max_depth=5, random_state=42)"
            ],
            "text/html": [
              "<style>#sk-container-id-2 {\n",
              "  /* Definition of color scheme common for light and dark mode */\n",
              "  --sklearn-color-text: #000;\n",
              "  --sklearn-color-text-muted: #666;\n",
              "  --sklearn-color-line: gray;\n",
              "  /* Definition of color scheme for unfitted estimators */\n",
              "  --sklearn-color-unfitted-level-0: #fff5e6;\n",
              "  --sklearn-color-unfitted-level-1: #f6e4d2;\n",
              "  --sklearn-color-unfitted-level-2: #ffe0b3;\n",
              "  --sklearn-color-unfitted-level-3: chocolate;\n",
              "  /* Definition of color scheme for fitted estimators */\n",
              "  --sklearn-color-fitted-level-0: #f0f8ff;\n",
              "  --sklearn-color-fitted-level-1: #d4ebff;\n",
              "  --sklearn-color-fitted-level-2: #b3dbfd;\n",
              "  --sklearn-color-fitted-level-3: cornflowerblue;\n",
              "\n",
              "  /* Specific color for light theme */\n",
              "  --sklearn-color-text-on-default-background: var(--sg-text-color, var(--theme-code-foreground, var(--jp-content-font-color1, black)));\n",
              "  --sklearn-color-background: var(--sg-background-color, var(--theme-background, var(--jp-layout-color0, white)));\n",
              "  --sklearn-color-border-box: var(--sg-text-color, var(--theme-code-foreground, var(--jp-content-font-color1, black)));\n",
              "  --sklearn-color-icon: #696969;\n",
              "\n",
              "  @media (prefers-color-scheme: dark) {\n",
              "    /* Redefinition of color scheme for dark theme */\n",
              "    --sklearn-color-text-on-default-background: var(--sg-text-color, var(--theme-code-foreground, var(--jp-content-font-color1, white)));\n",
              "    --sklearn-color-background: var(--sg-background-color, var(--theme-background, var(--jp-layout-color0, #111)));\n",
              "    --sklearn-color-border-box: var(--sg-text-color, var(--theme-code-foreground, var(--jp-content-font-color1, white)));\n",
              "    --sklearn-color-icon: #878787;\n",
              "  }\n",
              "}\n",
              "\n",
              "#sk-container-id-2 {\n",
              "  color: var(--sklearn-color-text);\n",
              "}\n",
              "\n",
              "#sk-container-id-2 pre {\n",
              "  padding: 0;\n",
              "}\n",
              "\n",
              "#sk-container-id-2 input.sk-hidden--visually {\n",
              "  border: 0;\n",
              "  clip: rect(1px 1px 1px 1px);\n",
              "  clip: rect(1px, 1px, 1px, 1px);\n",
              "  height: 1px;\n",
              "  margin: -1px;\n",
              "  overflow: hidden;\n",
              "  padding: 0;\n",
              "  position: absolute;\n",
              "  width: 1px;\n",
              "}\n",
              "\n",
              "#sk-container-id-2 div.sk-dashed-wrapped {\n",
              "  border: 1px dashed var(--sklearn-color-line);\n",
              "  margin: 0 0.4em 0.5em 0.4em;\n",
              "  box-sizing: border-box;\n",
              "  padding-bottom: 0.4em;\n",
              "  background-color: var(--sklearn-color-background);\n",
              "}\n",
              "\n",
              "#sk-container-id-2 div.sk-container {\n",
              "  /* jupyter's `normalize.less` sets `[hidden] { display: none; }`\n",
              "     but bootstrap.min.css set `[hidden] { display: none !important; }`\n",
              "     so we also need the `!important` here to be able to override the\n",
              "     default hidden behavior on the sphinx rendered scikit-learn.org.\n",
              "     See: https://github.com/scikit-learn/scikit-learn/issues/21755 */\n",
              "  display: inline-block !important;\n",
              "  position: relative;\n",
              "}\n",
              "\n",
              "#sk-container-id-2 div.sk-text-repr-fallback {\n",
              "  display: none;\n",
              "}\n",
              "\n",
              "div.sk-parallel-item,\n",
              "div.sk-serial,\n",
              "div.sk-item {\n",
              "  /* draw centered vertical line to link estimators */\n",
              "  background-image: linear-gradient(var(--sklearn-color-text-on-default-background), var(--sklearn-color-text-on-default-background));\n",
              "  background-size: 2px 100%;\n",
              "  background-repeat: no-repeat;\n",
              "  background-position: center center;\n",
              "}\n",
              "\n",
              "/* Parallel-specific style estimator block */\n",
              "\n",
              "#sk-container-id-2 div.sk-parallel-item::after {\n",
              "  content: \"\";\n",
              "  width: 100%;\n",
              "  border-bottom: 2px solid var(--sklearn-color-text-on-default-background);\n",
              "  flex-grow: 1;\n",
              "}\n",
              "\n",
              "#sk-container-id-2 div.sk-parallel {\n",
              "  display: flex;\n",
              "  align-items: stretch;\n",
              "  justify-content: center;\n",
              "  background-color: var(--sklearn-color-background);\n",
              "  position: relative;\n",
              "}\n",
              "\n",
              "#sk-container-id-2 div.sk-parallel-item {\n",
              "  display: flex;\n",
              "  flex-direction: column;\n",
              "}\n",
              "\n",
              "#sk-container-id-2 div.sk-parallel-item:first-child::after {\n",
              "  align-self: flex-end;\n",
              "  width: 50%;\n",
              "}\n",
              "\n",
              "#sk-container-id-2 div.sk-parallel-item:last-child::after {\n",
              "  align-self: flex-start;\n",
              "  width: 50%;\n",
              "}\n",
              "\n",
              "#sk-container-id-2 div.sk-parallel-item:only-child::after {\n",
              "  width: 0;\n",
              "}\n",
              "\n",
              "/* Serial-specific style estimator block */\n",
              "\n",
              "#sk-container-id-2 div.sk-serial {\n",
              "  display: flex;\n",
              "  flex-direction: column;\n",
              "  align-items: center;\n",
              "  background-color: var(--sklearn-color-background);\n",
              "  padding-right: 1em;\n",
              "  padding-left: 1em;\n",
              "}\n",
              "\n",
              "\n",
              "/* Toggleable style: style used for estimator/Pipeline/ColumnTransformer box that is\n",
              "clickable and can be expanded/collapsed.\n",
              "- Pipeline and ColumnTransformer use this feature and define the default style\n",
              "- Estimators will overwrite some part of the style using the `sk-estimator` class\n",
              "*/\n",
              "\n",
              "/* Pipeline and ColumnTransformer style (default) */\n",
              "\n",
              "#sk-container-id-2 div.sk-toggleable {\n",
              "  /* Default theme specific background. It is overwritten whether we have a\n",
              "  specific estimator or a Pipeline/ColumnTransformer */\n",
              "  background-color: var(--sklearn-color-background);\n",
              "}\n",
              "\n",
              "/* Toggleable label */\n",
              "#sk-container-id-2 label.sk-toggleable__label {\n",
              "  cursor: pointer;\n",
              "  display: flex;\n",
              "  width: 100%;\n",
              "  margin-bottom: 0;\n",
              "  padding: 0.5em;\n",
              "  box-sizing: border-box;\n",
              "  text-align: center;\n",
              "  align-items: start;\n",
              "  justify-content: space-between;\n",
              "  gap: 0.5em;\n",
              "}\n",
              "\n",
              "#sk-container-id-2 label.sk-toggleable__label .caption {\n",
              "  font-size: 0.6rem;\n",
              "  font-weight: lighter;\n",
              "  color: var(--sklearn-color-text-muted);\n",
              "}\n",
              "\n",
              "#sk-container-id-2 label.sk-toggleable__label-arrow:before {\n",
              "  /* Arrow on the left of the label */\n",
              "  content: \"▸\";\n",
              "  float: left;\n",
              "  margin-right: 0.25em;\n",
              "  color: var(--sklearn-color-icon);\n",
              "}\n",
              "\n",
              "#sk-container-id-2 label.sk-toggleable__label-arrow:hover:before {\n",
              "  color: var(--sklearn-color-text);\n",
              "}\n",
              "\n",
              "/* Toggleable content - dropdown */\n",
              "\n",
              "#sk-container-id-2 div.sk-toggleable__content {\n",
              "  max-height: 0;\n",
              "  max-width: 0;\n",
              "  overflow: hidden;\n",
              "  text-align: left;\n",
              "  /* unfitted */\n",
              "  background-color: var(--sklearn-color-unfitted-level-0);\n",
              "}\n",
              "\n",
              "#sk-container-id-2 div.sk-toggleable__content.fitted {\n",
              "  /* fitted */\n",
              "  background-color: var(--sklearn-color-fitted-level-0);\n",
              "}\n",
              "\n",
              "#sk-container-id-2 div.sk-toggleable__content pre {\n",
              "  margin: 0.2em;\n",
              "  border-radius: 0.25em;\n",
              "  color: var(--sklearn-color-text);\n",
              "  /* unfitted */\n",
              "  background-color: var(--sklearn-color-unfitted-level-0);\n",
              "}\n",
              "\n",
              "#sk-container-id-2 div.sk-toggleable__content.fitted pre {\n",
              "  /* unfitted */\n",
              "  background-color: var(--sklearn-color-fitted-level-0);\n",
              "}\n",
              "\n",
              "#sk-container-id-2 input.sk-toggleable__control:checked~div.sk-toggleable__content {\n",
              "  /* Expand drop-down */\n",
              "  max-height: 200px;\n",
              "  max-width: 100%;\n",
              "  overflow: auto;\n",
              "}\n",
              "\n",
              "#sk-container-id-2 input.sk-toggleable__control:checked~label.sk-toggleable__label-arrow:before {\n",
              "  content: \"▾\";\n",
              "}\n",
              "\n",
              "/* Pipeline/ColumnTransformer-specific style */\n",
              "\n",
              "#sk-container-id-2 div.sk-label input.sk-toggleable__control:checked~label.sk-toggleable__label {\n",
              "  color: var(--sklearn-color-text);\n",
              "  background-color: var(--sklearn-color-unfitted-level-2);\n",
              "}\n",
              "\n",
              "#sk-container-id-2 div.sk-label.fitted input.sk-toggleable__control:checked~label.sk-toggleable__label {\n",
              "  background-color: var(--sklearn-color-fitted-level-2);\n",
              "}\n",
              "\n",
              "/* Estimator-specific style */\n",
              "\n",
              "/* Colorize estimator box */\n",
              "#sk-container-id-2 div.sk-estimator input.sk-toggleable__control:checked~label.sk-toggleable__label {\n",
              "  /* unfitted */\n",
              "  background-color: var(--sklearn-color-unfitted-level-2);\n",
              "}\n",
              "\n",
              "#sk-container-id-2 div.sk-estimator.fitted input.sk-toggleable__control:checked~label.sk-toggleable__label {\n",
              "  /* fitted */\n",
              "  background-color: var(--sklearn-color-fitted-level-2);\n",
              "}\n",
              "\n",
              "#sk-container-id-2 div.sk-label label.sk-toggleable__label,\n",
              "#sk-container-id-2 div.sk-label label {\n",
              "  /* The background is the default theme color */\n",
              "  color: var(--sklearn-color-text-on-default-background);\n",
              "}\n",
              "\n",
              "/* On hover, darken the color of the background */\n",
              "#sk-container-id-2 div.sk-label:hover label.sk-toggleable__label {\n",
              "  color: var(--sklearn-color-text);\n",
              "  background-color: var(--sklearn-color-unfitted-level-2);\n",
              "}\n",
              "\n",
              "/* Label box, darken color on hover, fitted */\n",
              "#sk-container-id-2 div.sk-label.fitted:hover label.sk-toggleable__label.fitted {\n",
              "  color: var(--sklearn-color-text);\n",
              "  background-color: var(--sklearn-color-fitted-level-2);\n",
              "}\n",
              "\n",
              "/* Estimator label */\n",
              "\n",
              "#sk-container-id-2 div.sk-label label {\n",
              "  font-family: monospace;\n",
              "  font-weight: bold;\n",
              "  display: inline-block;\n",
              "  line-height: 1.2em;\n",
              "}\n",
              "\n",
              "#sk-container-id-2 div.sk-label-container {\n",
              "  text-align: center;\n",
              "}\n",
              "\n",
              "/* Estimator-specific */\n",
              "#sk-container-id-2 div.sk-estimator {\n",
              "  font-family: monospace;\n",
              "  border: 1px dotted var(--sklearn-color-border-box);\n",
              "  border-radius: 0.25em;\n",
              "  box-sizing: border-box;\n",
              "  margin-bottom: 0.5em;\n",
              "  /* unfitted */\n",
              "  background-color: var(--sklearn-color-unfitted-level-0);\n",
              "}\n",
              "\n",
              "#sk-container-id-2 div.sk-estimator.fitted {\n",
              "  /* fitted */\n",
              "  background-color: var(--sklearn-color-fitted-level-0);\n",
              "}\n",
              "\n",
              "/* on hover */\n",
              "#sk-container-id-2 div.sk-estimator:hover {\n",
              "  /* unfitted */\n",
              "  background-color: var(--sklearn-color-unfitted-level-2);\n",
              "}\n",
              "\n",
              "#sk-container-id-2 div.sk-estimator.fitted:hover {\n",
              "  /* fitted */\n",
              "  background-color: var(--sklearn-color-fitted-level-2);\n",
              "}\n",
              "\n",
              "/* Specification for estimator info (e.g. \"i\" and \"?\") */\n",
              "\n",
              "/* Common style for \"i\" and \"?\" */\n",
              "\n",
              ".sk-estimator-doc-link,\n",
              "a:link.sk-estimator-doc-link,\n",
              "a:visited.sk-estimator-doc-link {\n",
              "  float: right;\n",
              "  font-size: smaller;\n",
              "  line-height: 1em;\n",
              "  font-family: monospace;\n",
              "  background-color: var(--sklearn-color-background);\n",
              "  border-radius: 1em;\n",
              "  height: 1em;\n",
              "  width: 1em;\n",
              "  text-decoration: none !important;\n",
              "  margin-left: 0.5em;\n",
              "  text-align: center;\n",
              "  /* unfitted */\n",
              "  border: var(--sklearn-color-unfitted-level-1) 1pt solid;\n",
              "  color: var(--sklearn-color-unfitted-level-1);\n",
              "}\n",
              "\n",
              ".sk-estimator-doc-link.fitted,\n",
              "a:link.sk-estimator-doc-link.fitted,\n",
              "a:visited.sk-estimator-doc-link.fitted {\n",
              "  /* fitted */\n",
              "  border: var(--sklearn-color-fitted-level-1) 1pt solid;\n",
              "  color: var(--sklearn-color-fitted-level-1);\n",
              "}\n",
              "\n",
              "/* On hover */\n",
              "div.sk-estimator:hover .sk-estimator-doc-link:hover,\n",
              ".sk-estimator-doc-link:hover,\n",
              "div.sk-label-container:hover .sk-estimator-doc-link:hover,\n",
              ".sk-estimator-doc-link:hover {\n",
              "  /* unfitted */\n",
              "  background-color: var(--sklearn-color-unfitted-level-3);\n",
              "  color: var(--sklearn-color-background);\n",
              "  text-decoration: none;\n",
              "}\n",
              "\n",
              "div.sk-estimator.fitted:hover .sk-estimator-doc-link.fitted:hover,\n",
              ".sk-estimator-doc-link.fitted:hover,\n",
              "div.sk-label-container:hover .sk-estimator-doc-link.fitted:hover,\n",
              ".sk-estimator-doc-link.fitted:hover {\n",
              "  /* fitted */\n",
              "  background-color: var(--sklearn-color-fitted-level-3);\n",
              "  color: var(--sklearn-color-background);\n",
              "  text-decoration: none;\n",
              "}\n",
              "\n",
              "/* Span, style for the box shown on hovering the info icon */\n",
              ".sk-estimator-doc-link span {\n",
              "  display: none;\n",
              "  z-index: 9999;\n",
              "  position: relative;\n",
              "  font-weight: normal;\n",
              "  right: .2ex;\n",
              "  padding: .5ex;\n",
              "  margin: .5ex;\n",
              "  width: min-content;\n",
              "  min-width: 20ex;\n",
              "  max-width: 50ex;\n",
              "  color: var(--sklearn-color-text);\n",
              "  box-shadow: 2pt 2pt 4pt #999;\n",
              "  /* unfitted */\n",
              "  background: var(--sklearn-color-unfitted-level-0);\n",
              "  border: .5pt solid var(--sklearn-color-unfitted-level-3);\n",
              "}\n",
              "\n",
              ".sk-estimator-doc-link.fitted span {\n",
              "  /* fitted */\n",
              "  background: var(--sklearn-color-fitted-level-0);\n",
              "  border: var(--sklearn-color-fitted-level-3);\n",
              "}\n",
              "\n",
              ".sk-estimator-doc-link:hover span {\n",
              "  display: block;\n",
              "}\n",
              "\n",
              "/* \"?\"-specific style due to the `<a>` HTML tag */\n",
              "\n",
              "#sk-container-id-2 a.estimator_doc_link {\n",
              "  float: right;\n",
              "  font-size: 1rem;\n",
              "  line-height: 1em;\n",
              "  font-family: monospace;\n",
              "  background-color: var(--sklearn-color-background);\n",
              "  border-radius: 1rem;\n",
              "  height: 1rem;\n",
              "  width: 1rem;\n",
              "  text-decoration: none;\n",
              "  /* unfitted */\n",
              "  color: var(--sklearn-color-unfitted-level-1);\n",
              "  border: var(--sklearn-color-unfitted-level-1) 1pt solid;\n",
              "}\n",
              "\n",
              "#sk-container-id-2 a.estimator_doc_link.fitted {\n",
              "  /* fitted */\n",
              "  border: var(--sklearn-color-fitted-level-1) 1pt solid;\n",
              "  color: var(--sklearn-color-fitted-level-1);\n",
              "}\n",
              "\n",
              "/* On hover */\n",
              "#sk-container-id-2 a.estimator_doc_link:hover {\n",
              "  /* unfitted */\n",
              "  background-color: var(--sklearn-color-unfitted-level-3);\n",
              "  color: var(--sklearn-color-background);\n",
              "  text-decoration: none;\n",
              "}\n",
              "\n",
              "#sk-container-id-2 a.estimator_doc_link.fitted:hover {\n",
              "  /* fitted */\n",
              "  background-color: var(--sklearn-color-fitted-level-3);\n",
              "}\n",
              "</style><div id=\"sk-container-id-2\" class=\"sk-top-container\"><div class=\"sk-text-repr-fallback\"><pre>RandomForestRegressor(max_depth=5, random_state=42)</pre><b>In a Jupyter environment, please rerun this cell to show the HTML representation or trust the notebook. <br />On GitHub, the HTML representation is unable to render, please try loading this page with nbviewer.org.</b></div><div class=\"sk-container\" hidden><div class=\"sk-item\"><div class=\"sk-estimator fitted sk-toggleable\"><input class=\"sk-toggleable__control sk-hidden--visually\" id=\"sk-estimator-id-2\" type=\"checkbox\" checked><label for=\"sk-estimator-id-2\" class=\"sk-toggleable__label fitted sk-toggleable__label-arrow\"><div><div>RandomForestRegressor</div></div><div><a class=\"sk-estimator-doc-link fitted\" rel=\"noreferrer\" target=\"_blank\" href=\"https://scikit-learn.org/1.6/modules/generated/sklearn.ensemble.RandomForestRegressor.html\">?<span>Documentation for RandomForestRegressor</span></a><span class=\"sk-estimator-doc-link fitted\">i<span>Fitted</span></span></div></label><div class=\"sk-toggleable__content fitted\"><pre>RandomForestRegressor(max_depth=5, random_state=42)</pre></div> </div></div></div></div>"
            ]
          },
          "metadata": {},
          "execution_count": 18
        }
      ],
      "source": [
        "from sklearn.ensemble import RandomForestRegressor\n",
        "\n",
        "rf_reg = RandomForestRegressor(bootstrap=True, n_estimators=100, max_depth=5, random_state=42)\n",
        "rf_reg.fit(X, y)"
      ]
    },
    {
      "cell_type": "code",
      "execution_count": 19,
      "metadata": {
        "run_control": {
          "marked": true
        },
        "id": "4zN5sogE-g0s",
        "outputId": "c02def2a-491f-4077-8af3-10d14dd542c6",
        "colab": {
          "base_uri": "https://localhost:8080/",
          "height": 0
        }
      },
      "outputs": [
        {
          "output_type": "execute_result",
          "data": {
            "text/plain": [
              "array([226052.57663663, 408572.3162281 , 100944.59292661,  95012.98416211,\n",
              "       323566.08786234, 135098.37280907, 283371.7148996 , 357336.26089032,\n",
              "       167697.90412093, 146436.2407077 ])"
            ]
          },
          "metadata": {},
          "execution_count": 19
        }
      ],
      "source": [
        "rf_reg.predict(X[:10,])"
      ]
    },
    {
      "cell_type": "markdown",
      "metadata": {
        "id": "K7rA8ZHQ-g0s"
      },
      "source": [
        "**Task:** Find the in-sample performance of the decision tree and the random forest using RMSE on the training set. Also, find the out-of-sample performance by 10-fold cross validation as you did in part (c). Which of the 3 models has the best in-sample performance? Which has the best out-of-sample performance?"
      ]
    },
    {
      "cell_type": "markdown",
      "metadata": {
        "id": "KgtumF7u-g0s"
      },
      "source": [
        "**Solution:**"
      ]
    },
    {
      "cell_type": "code",
      "execution_count": 20,
      "metadata": {
        "id": "n8zuoKqz-g0s",
        "outputId": "d88f7124-71cb-4bf7-93ad-15824d1eb72a",
        "colab": {
          "base_uri": "https://localhost:8080/",
          "height": 0
        }
      },
      "outputs": [
        {
          "output_type": "stream",
          "name": "stdout",
          "text": [
            "Linear Regression In-sample RMSE: 70630.22169174394\n",
            "Decision Tree In-sample RMSE: 0.0\n",
            "Random Forest In-sample RMSE: 62145.4331743811\n",
            "\n",
            "Linear Regression CV RMSE: 70630.22169174394\n",
            "Decision Tree 10-fold CV RMSE: [67898.40100744 67248.54149778 67243.39802711 72035.287263\n",
            " 68898.44321855 71008.46519973 71362.02678113 74060.25775818\n",
            " 71016.06635454 69991.86971249]\n",
            "Decision Tree Mean CV RMSE: 70076.27568199515\n",
            "Random Forest 10-fold CV RMSE: [64285.5681693  64416.01160789 61285.39123064 62717.91644372\n",
            " 62975.51019993 64267.50742936 64049.97630137 64749.28015876\n",
            " 63792.05556927 64654.70321247]\n",
            "Random Forest Mean CV RMSE: 63719.39203227045\n"
          ]
        }
      ],
      "source": [
        "dt_predictions = dt_reg.predict(X)\n",
        "dt_rmse_in = np.sqrt(mean_squared_error(y, dt_predictions))\n",
        "dt_neg_mse_scores = cross_val_score(dt_reg, X, y, scoring='neg_mean_squared_error', cv=10)\n",
        "dt_rmse_cv = np.sqrt(-dt_neg_mse_scores)\n",
        "\n",
        "rf_predictions = rf_reg.predict(X)\n",
        "rf_rmse_in = np.sqrt(mean_squared_error(y, rf_predictions))\n",
        "rf_neg_mse_scores = cross_val_score(rf_reg, X, y, scoring='neg_mean_squared_error', cv=10)\n",
        "rf_rmse_cv = np.sqrt(-rf_neg_mse_scores)\n",
        "\n",
        "print(\"Linear Regression In-sample RMSE:\", lin_rmse)\n",
        "print(\"Decision Tree In-sample RMSE:\", dt_rmse_in)\n",
        "print(\"Random Forest In-sample RMSE:\", rf_rmse_in)\n",
        "print()\n",
        "\n",
        "print(\"Linear Regression CV RMSE:\", lin_rmse)  # already computed earlier\n",
        "print(\"Decision Tree 10-fold CV RMSE:\", dt_rmse_cv)\n",
        "print(\"Decision Tree Mean CV RMSE:\", dt_rmse_cv.mean())\n",
        "print(\"Random Forest 10-fold CV RMSE:\", rf_rmse_cv)\n",
        "print(\"Random Forest Mean CV RMSE:\", rf_rmse_cv.mean())"
      ]
    },
    {
      "cell_type": "markdown",
      "metadata": {
        "id": "Q6lnJ_wm-g0s"
      },
      "source": [
        "The Decision Tree model has the best in-sample performance (RMSE of 0.0) but suffers from overfitting.\n",
        "\n",
        "The Random Forest not only fits the training data well (with an in-sample RMSE lower than Linear Regression) but also shows the best out-of-sample performance, making it the preferable model for generalization."
      ]
    },
    {
      "cell_type": "markdown",
      "metadata": {
        "id": "AEWWx7Qk-g0s"
      },
      "source": [
        "## (e) Choosing optimal values of hyperparameters using cross validation [4 marks]\n",
        "\n",
        "Most ML algorithms have **hyperparameters**. These hyperparameters control the learning process and should not be confused with the model parameters (which are the unknown values that are being estimated). For example, the random forest algorithm has hyperparameter including `n_estimators` and `max_features`. To fine-tune a model, we should find good values of the hyperparameters based on out-of-sample performance.\n",
        "\n",
        "**Task:** Read the subsections \"Grid Search\" and \"Randomized Search\" in Chapter 2 of the textbook. Consider the random forest model with the argument `random_state=42`. Use the `sklearn.model_selection.GridSearchCV` class to choose the best hyperparameter values for `max_features` over the values 4, 6, 8, 10 and `n_estimators` over the values 10, 50, 100. Use 3-fold cross-validation with RMSE when searching for the best hyperparameters.\n",
        "\n",
        "Next, use the `sklearn.model_selection.RandomizedSearchCV` class to perform a randomized search with 10 iterations, where  `max_features` is a uniform random integer between 2 and 20 and `n_estimators` is a uniform random integer between 10 and 200. `RandomizedSearchCV` must include the argument `random_state=42`.\n",
        "\n",
        "\n",
        "In both functions, you may use the argument `n_jobs=-1` to use all avaliable processor cores to speed up the calculation. Based on all of your results, what are the best hyperparameter values?"
      ]
    },
    {
      "cell_type": "markdown",
      "metadata": {
        "id": "3D059eEu-g0s"
      },
      "source": [
        "**Solution:**"
      ]
    },
    {
      "cell_type": "code",
      "execution_count": 21,
      "metadata": {
        "id": "9QPMGZVY-g0s",
        "outputId": "0f8a6882-a2e9-409a-f3ad-9d2a432d6ac3",
        "colab": {
          "base_uri": "https://localhost:8080/",
          "height": 0
        }
      },
      "outputs": [
        {
          "output_type": "stream",
          "name": "stdout",
          "text": [
            "Best hyperparameters from GridSearchCV: {'max_features': 6, 'n_estimators': 100}\n",
            "Best hyperparameters from RandomizedSearchCV: {'max_features': 7, 'n_estimators': 139}\n"
          ]
        }
      ],
      "source": [
        "from sklearn.ensemble import RandomForestRegressor\n",
        "from sklearn.model_selection import GridSearchCV, RandomizedSearchCV\n",
        "from scipy.stats import randint\n",
        "\n",
        "param_grid = {\n",
        "    'max_features': [4, 6, 8, 10],\n",
        "    'n_estimators': [10, 50, 100]\n",
        "}\n",
        "\n",
        "grid_search = GridSearchCV(\n",
        "    RandomForestRegressor(random_state=42),\n",
        "    param_grid,\n",
        "    cv=3,\n",
        "    scoring='neg_root_mean_squared_error',\n",
        "    n_jobs=-1\n",
        ")\n",
        "\n",
        "grid_search.fit(X, y)\n",
        "\n",
        "print(\"Best hyperparameters from GridSearchCV:\", grid_search.best_params_)\n",
        "\n",
        "\n",
        "\n",
        "param_distributions = {\n",
        "    'max_features': randint(low=2, high=20),\n",
        "    'n_estimators': randint(low=10, high=200)\n",
        "}\n",
        "\n",
        "random_search = RandomizedSearchCV(\n",
        "    RandomForestRegressor(random_state=42),\n",
        "    param_distributions=param_distributions,\n",
        "    n_iter=10,\n",
        "    cv=3,\n",
        "    scoring='neg_root_mean_squared_error',\n",
        "    random_state=42,\n",
        "    n_jobs=-1\n",
        ")\n",
        "\n",
        "random_search.fit(X, y)\n",
        "\n",
        "print(\"Best hyperparameters from RandomizedSearchCV:\", random_search.best_params_)"
      ]
    },
    {
      "cell_type": "markdown",
      "metadata": {
        "id": "_Mix8sCM-g0s"
      },
      "source": [
        "Output for above done via Google Colab (My macbook cannot run above code under ten minutes):\n",
        "<br>Best hyperparameters from GridSearchCV: {'max_features': 6, 'n_estimators': 100}\n",
        "<br>Best hyperparameters from RandomizedSearchCV: {'max_features': 7, 'n_estimators': 139}"
      ]
    },
    {
      "cell_type": "markdown",
      "metadata": {
        "id": "OH6utLSo-g0s"
      },
      "source": [
        "## (f) Evaluating your final model using the test set [2 marks]\n",
        "\n",
        "The last step of a ML project is to evaluate your (fine-tuned) model using the test set. The goal of this step is to estimate the out-of-sample performance of your trained model on new data. **Be careful not to train your model using the test set.** Do not use `.fit()` or `.fit_tranform()` of your estimators or pipelines. Also, **do not fine tune your hyperparameters after finding out the performance of a model on the test set as that would be data snooping.**\n",
        "\n",
        "**Task:** Using the test set, find the RMSE of your best model in part (e)."
      ]
    },
    {
      "cell_type": "markdown",
      "metadata": {
        "scrolled": true,
        "id": "z8hnAnl2-g0s"
      },
      "source": [
        "**Solution:**"
      ]
    },
    {
      "cell_type": "code",
      "execution_count": 22,
      "metadata": {
        "id": "2goa7j-E-g0s"
      },
      "outputs": [],
      "source": [
        "grid_cv_res = pd.DataFrame(grid_search.cv_results_)\n",
        "grid_cv_res.sort_values(by=\"mean_test_score\", ascending=False, inplace=True)\n",
        "grid_cv_res.head()\n",
        "\n",
        "rs_cb_res = pd.DataFrame()\n"
      ]
    },
    {
      "cell_type": "code",
      "execution_count": 23,
      "metadata": {
        "id": "uiG1I3kV-g0s",
        "outputId": "c2a6c1ee-121d-47f5-a14a-414d9f14a987",
        "colab": {
          "base_uri": "https://localhost:8080/",
          "height": 0
        }
      },
      "outputs": [
        {
          "output_type": "stream",
          "name": "stdout",
          "text": [
            "Final RMSE: 58506.261432360894\n"
          ]
        }
      ],
      "source": [
        "X_test = strat_test_set.drop(\"median_house_value\", axis =1)\n",
        "y_test = strat_test_set[\"median_house_value\"].copy()\n",
        "\n",
        "final_model = random_search.best_estimator_\n",
        "\n",
        "X_test_processed = preprocessing.fit_transform(X_test)\n",
        "\n",
        "final_predictions = final_model.predict(X_test_processed)\n",
        "\n",
        "final_rmse = np.sqrt(mean_squared_error(y_test, final_predictions))\n",
        "print(\"Final RMSE:\", final_rmse)"
      ]
    },
    {
      "cell_type": "markdown",
      "metadata": {
        "id": "AAHIAhIj-g0s"
      },
      "source": [
        "# 3. Regularizing linear regression [6 marks]\n",
        "\n",
        "Consider the housing data set from Questions 1 and 2."
      ]
    },
    {
      "cell_type": "markdown",
      "metadata": {
        "id": "VTwmy31h-g0s"
      },
      "source": [
        "## (a) Polynomial regression and regularizing [2 marks]\n",
        "\n",
        "Fit a model that adds degree 3 polynomial terms to the linear regression in 2(a). Next, regularize the model using ridge regression with parameter $\\alpha=1$."
      ]
    },
    {
      "cell_type": "markdown",
      "metadata": {
        "id": "byA86WWx-g0s"
      },
      "source": [
        "**Solution:**"
      ]
    },
    {
      "cell_type": "code",
      "source": [
        "from sklearn.preprocessing import PolynomialFeatures\n",
        "from sklearn.linear_model import Ridge\n",
        "from sklearn.pipeline import make_pipeline\n",
        "\n",
        "# Assuming X and y are defined from previous parts of the code\n",
        "\n",
        "poly_pipeline = make_pipeline(PolynomialFeatures(degree=3, include_bias=False), LinearRegression())\n",
        "poly_pipeline.fit(X, y)\n",
        "\n",
        "y_pred_poly = poly_pipeline.predict(X)\n",
        "\n",
        "poly_ridge_pipeline = make_pipeline(PolynomialFeatures(degree=3, include_bias=False), Ridge(alpha=1, solver=\"sag\", random_state=42))\n",
        "poly_ridge_pipeline.fit(X, y)\n",
        "\n",
        "y_pred_ridge_poly = poly_ridge_pipeline.predict(X)"
      ],
      "metadata": {
        "id": "H-zCjytMIUgP",
        "colab": {
          "base_uri": "https://localhost:8080/",
          "height": 0
        },
        "outputId": "06849652-f2ab-4182-a99e-f3d0ee421596"
      },
      "execution_count": 24,
      "outputs": [
        {
          "output_type": "stream",
          "name": "stderr",
          "text": [
            "/usr/local/lib/python3.11/dist-packages/sklearn/linear_model/_sag.py:348: ConvergenceWarning: The max_iter was reached which means the coef_ did not converge\n",
            "  warnings.warn(\n"
          ]
        }
      ]
    },
    {
      "cell_type": "markdown",
      "metadata": {
        "id": "HRMffmdT-g0t"
      },
      "source": [
        "## (b) Learning curves [4 marks]\n",
        "\n",
        "Obtain learning curves using the function `sklearn.model_selection.learning_curve` to plot the learning curve with 5-fold CV for the linear regression model that you fitted in 2(a), the polynomial regression model in 3(a), and the ridge regression model in 3(a). Hence, comment on whether the curves indicate the models are underfitting, overfitting or neither."
      ]
    },
    {
      "cell_type": "markdown",
      "metadata": {
        "id": "JklivIUl-g0t"
      },
      "source": [
        "**Solution:**"
      ]
    },
    {
      "cell_type": "code",
      "source": [
        "from sklearn.model_selection import learning_curve\n",
        "import matplotlib.pyplot as plt\n",
        "from sklearn.metrics import make_scorer\n",
        "def rmse_score(y_true, y_pred):\n",
        "    return np.sqrt(mean_squared_error(y_true, y_pred))\n",
        "\n",
        "\n",
        "def plot_learning_curve(estimator, X, y, title=\"\"):\n",
        "    train_sizes, train_scores, val_scores = learning_curve(\n",
        "        estimator,\n",
        "        X,\n",
        "        y,\n",
        "        train_sizes=np.linspace(0.01, 1.0, 40),\n",
        "        scoring=\"neg_root_mean_squared_error\",\n",
        "        cv=5,\n",
        "        n_jobs=-1\n",
        "    )\n",
        "    train_rmse = -train_scores.mean(axis=1)\n",
        "    val_rmse = -val_scores.mean(axis=1)\n",
        "\n",
        "    plt.figure()\n",
        "    plt.plot(train_sizes, train_rmse, label=\"Training RMSE\")\n",
        "    plt.plot(train_sizes, val_rmse, label=\"Validation RMSE\")\n",
        "    plt.title(title)\n",
        "    plt.xlabel(\"Training set size\")\n",
        "    plt.ylabel(\"RMSE\")\n",
        "    plt.legend()\n",
        "    plt.show()\n",
        "\n",
        "\n",
        "poly_features=PolynomialFeatures(degree=3, include_bias=False)\n",
        "X_poly=poly_features.fit_transform(X)\n",
        "std_scaler=StandardScaler()\n",
        "X_poly_Ridge = std_scaler.fit_transform(X_poly)\n",
        "plot_learning_curve(lin_reg, X, y, title=\"Learning Curve: Linear Regression (2a)\")\n",
        "plot_learning_curve(poly_pipeline, X, y, title=\"Learning Curve: Polynomial(3a)\")\n",
        "model_ridge = Ridge(alpha=1)\n",
        "model_ridge.fit(X_poly_Ridge, y)\n",
        "plot_learning_curve(model_ridge, X_poly_Ridge, y, title=\"Learning Curve: Ridge(3a)\")"
      ],
      "metadata": {
        "id": "qTq24DZUBcRf",
        "colab": {
          "base_uri": "https://localhost:8080/",
          "height": 1000
        },
        "outputId": "4bab0691-63bf-489d-c15a-dd57c94e6bc8"
      },
      "execution_count": 27,
      "outputs": [
        {
          "output_type": "display_data",
          "data": {
            "text/plain": [
              "<Figure size 640x480 with 1 Axes>"
            ],
            "image/png": "[encoded data removed]"
          },
          "metadata": {}
        },
        {
          "output_type": "display_data",
          "data": {
            "text/plain": [
              "<Figure size 640x480 with 1 Axes>"
            ],
            "image/png": "[encoded data removed]"
          },
          "metadata": {}
        },
        {
          "output_type": "display_data",
          "data": {
            "text/plain": [
              "<Figure size 640x480 with 1 Axes>"
            ],
            "image/png": "[encoded data removed]"
          },
          "metadata": {}
        }
      ]
    },
    {
      "cell_type": "markdown",
      "metadata": {
        "id": "SKUeOGlZ-g0t"
      },
      "source": [
        "# 4. Default dataset [17 marks]\n",
        "\n",
        "\n",
        "In this question you will work with the Default dataset, which is a simulated dataset of credit card default for 10000 customers. Download the data as a csv file from [Canvas](https://canvas.uw.edu/files/104571273/download?download_frd=1). The data was originally obtained from the R library ISLR2, and you can read the documentation for the dataset [here](https://cran.rstudio.com/web/packages/ISLR2/ISLR2.pdf).\n",
        "\n",
        "You want to predict credit card defaults. The target for this classification problem is `default` and all other variables are the features."
      ]
    },
    {
      "cell_type": "markdown",
      "metadata": {
        "id": "ccsLudAW-g0t"
      },
      "source": [
        "## (a) [2 marks]\n",
        "Load the dataset. If it is stored in a file named `Default.csv` in your working directory, this can be done with the code below. Then use `sklearn.model_selection.train_test_split` to split the data into a training and a test set, using 20% of the data for the test set. When doing the splitting, use the random seed 42."
      ]
    },
    {
      "cell_type": "code",
      "execution_count": 29,
      "metadata": {
        "id": "zP2BXRrM-g0t"
      },
      "outputs": [],
      "source": [
        "import os\n",
        "\n",
        "data = pd.read_csv(\"Default.csv\")"
      ]
    },
    {
      "cell_type": "markdown",
      "metadata": {
        "id": "Z0aFbvjj-g0t"
      },
      "source": [
        "**Solution:**"
      ]
    },
    {
      "cell_type": "code",
      "source": [
        "\n",
        "from sklearn.model_selection import train_test_split\n",
        "import pandas as pd\n",
        "\n",
        "X = data.drop(\"default\", axis=1)\n",
        "y = data[\"default\"]\n",
        "\n",
        "X_train, X_test, y_train, y_test = train_test_split(X, y, test_size=0.2, random_state=42)\n",
        "\n",
        "X_train.shape"
      ],
      "metadata": {
        "id": "0yu0t8dWYSOV",
        "outputId": "63f1929a-2e00-40ec-ddbd-a152762a1c4b",
        "colab": {
          "base_uri": "https://localhost:8080/",
          "height": 0
        }
      },
      "execution_count": 30,
      "outputs": [
        {
          "output_type": "execute_result",
          "data": {
            "text/plain": [
              "(8000, 3)"
            ]
          },
          "metadata": {},
          "execution_count": 30
        }
      ]
    },
    {
      "cell_type": "markdown",
      "metadata": {
        "id": "-VOkduYO-g0t"
      },
      "source": [
        "## (b) [3 marks]\n",
        "\n",
        "Design a pipeline for preprocessing that applies one hot encoding to the categorical features and a standard scaler to the numerical features."
      ]
    },
    {
      "cell_type": "markdown",
      "metadata": {
        "id": "QzUiF77B-g0t"
      },
      "source": [
        "**Solution:**"
      ]
    },
    {
      "cell_type": "code",
      "source": [
        "from sklearn.compose import ColumnTransformer\n",
        "from sklearn.pipeline import Pipeline\n",
        "from sklearn.preprocessing import OneHotEncoder, StandardScaler\n",
        "from sklearn.impute import SimpleImputer\n",
        "\n",
        "num_cols = [\"balance\", \"income\"]\n",
        "cat_cols = [\"student\"]\n",
        "\n",
        "numerical_transformer = Pipeline(steps=[\n",
        "    ('scaler', StandardScaler())\n",
        "])\n",
        "\n",
        "categorical_transformer = Pipeline(steps=[\n",
        "    ('onehot', OneHotEncoder(handle_unknown='ignore'))\n",
        "])\n",
        "\n",
        "preprocessing = ColumnTransformer(\n",
        "    transformers=[\n",
        "        ('num', numerical_transformer, num_cols),\n",
        "        ('cat', categorical_transformer, cat_cols)\n",
        "    ])\n",
        "\n",
        "X_train_processed = preprocessing.fit_transform(X_train)\n",
        "\n",
        "X_test_processed = preprocessing.transform(X_test)"
      ],
      "metadata": {
        "id": "rDd959C0bvPD"
      },
      "execution_count": 31,
      "outputs": []
    },
    {
      "cell_type": "markdown",
      "metadata": {
        "id": "Hzxa_FVq-g0t"
      },
      "source": [
        "## (c) [4 marks]\n",
        "Train a logistic regression classifier and a `SGDClassifier`, and then using 10-fold cross-validation plot the ROC curve of the classifiers and compute their ROC AUC. Use the default arguments, except you must include the argument `random_state=42`.  Furthermore, for the logistic regression, compute the ROC AUC for `C` taking the values 0.001, 0.01, 0.1, 1, 10, 100, to show that the default value of 1 is approximately optimal."
      ]
    },
    {
      "cell_type": "markdown",
      "metadata": {
        "id": "Z02KLbfe-g0t"
      },
      "source": [
        "**Solution:**"
      ]
    },
    {
      "cell_type": "code",
      "source": [
        "from sklearn.linear_model import LogisticRegression, SGDClassifier\n",
        "from sklearn.metrics import roc_curve, roc_auc_score\n",
        "from sklearn.model_selection import cross_val_predict\n",
        "from sklearn.model_selection import StratifiedKFold\n",
        "import matplotlib.pyplot as plt\n",
        "\n",
        "\n",
        "log_reg = LogisticRegression(random_state=42)\n",
        "sgd_clf = SGDClassifier(random_state=42)\n",
        "\n",
        "y_train_bin = (y_train == \"Yes\").astype(int).values\n",
        "\n",
        "y_proba_lr = cross_val_predict(log_reg, X_train_processed, y_train_bin, cv=10, method=\"predict_proba\")[:,1]\n",
        "y_function_sgd = cross_val_predict(sgd_clf, X_train_processed, y_train_bin, cv=10, method=\"decision_function\")\n",
        "\n",
        "\n",
        "fpr_lr, tpr_lr, thresholds = roc_curve(y_train_bin, y_proba_lr)\n",
        "auc_lr = roc_auc_score(y_train_bin, y_proba_lr)\n",
        "\n",
        "fpr_sgd, tpr_sgd, thresholds = roc_curve(y_train_bin, y_function_sgd)\n",
        "auc_sgd = roc_auc_score(y_train_bin, y_function_sgd)\n",
        "\n",
        "plt.figure()\n",
        "plt.plot(fpr_lr, tpr_lr, label=f\"Logistic Regression (AUC = {auc_lr:.2f})\")\n",
        "plt.plot(fpr_sgd, tpr_sgd, label=f\"SGD Classifier (AUC = {auc_sgd:.2f})\")\n",
        "plt.plot([0, 1], [0, 1], \"k--\")\n",
        "plt.xlabel(\"False Positive Rate\")\n",
        "plt.ylabel(\"True Positive Rate\")\n",
        "plt.title(\"ROC Curve (10-fold cv)\")\n",
        "plt.legend()\n",
        "plt.show()"
      ],
      "metadata": {
        "id": "McLBba2gY7mE",
        "outputId": "dc04acf8-9dc3-4cba-ea13-7f7e6e2291e2",
        "colab": {
          "base_uri": "https://localhost:8080/",
          "height": 472
        }
      },
      "execution_count": 32,
      "outputs": [
        {
          "output_type": "display_data",
          "data": {
            "text/plain": [
              "<Figure size 640x480 with 1 Axes>"
            ],
            "image/png": "[encoded data removed]"
          },
          "metadata": {}
        }
      ]
    },
    {
      "cell_type": "code",
      "source": [
        "c_values = [0.001, 0.01, 0.1, 1, 10, 100]\n",
        "roc_auc_scores_c = {}\n",
        "\n",
        "for c in c_values:\n",
        "    log_reg = LogisticRegression(C=c, random_state=42, max_iter=1000)\n",
        "    auc_scores = cross_val_predict(log_reg, X_train_processed, y_train, cv=10, method=\"predict_proba\")[:,1]\n",
        "    roc_auc_scores_c[c] = roc_auc_score(y_train, auc_scores)\n",
        "    print(f\"C={c}, Mean ROC AUC={roc_auc_scores_c[c]:.4f}\")"
      ],
      "metadata": {
        "id": "lLalfILEdCjV",
        "outputId": "ace4c48d-c82e-4b10-d9bf-1b248ad96079",
        "colab": {
          "base_uri": "https://localhost:8080/",
          "height": 0
        }
      },
      "execution_count": 33,
      "outputs": [
        {
          "output_type": "stream",
          "name": "stdout",
          "text": [
            "C=0.001, Mean ROC AUC=0.9466\n",
            "C=0.01, Mean ROC AUC=0.9500\n",
            "C=0.1, Mean ROC AUC=0.9503\n",
            "C=1, Mean ROC AUC=0.9501\n",
            "C=10, Mean ROC AUC=0.9502\n",
            "C=100, Mean ROC AUC=0.9502\n"
          ]
        }
      ]
    },
    {
      "cell_type": "markdown",
      "source": [],
      "metadata": {
        "id": "3_zUnstAq1Rq"
      }
    },
    {
      "cell_type": "markdown",
      "metadata": {
        "id": "n91KGFfu-g0t"
      },
      "source": [
        "## (d) [5 marks]\n",
        "\n",
        "For the classifiers in part (c), plot on the same axes the precision as a function of the threshold and the recall as a function of the threshold. Now suppose you want to achieve a recall of 75%. Consider 4 models:\n",
        " 1.  The logistic regression classifier in (c),\n",
        " 2. `SGDClassifier` in (c),\n",
        " 3. A logistic regression with the argument `class_weight=\"balanced\"`,\n",
        " 4. `SGDClassifier` with the argument `class_weight=\"balanced\"`.\n",
        "\n",
        "For each of the 4 models, determine the threshold to achieve a 75% recall based on 10-fold cross-validation. Then determine the corresponding precisions. Which model has the best precision?"
      ]
    },
    {
      "cell_type": "markdown",
      "metadata": {
        "id": "8Xb4hG8z-g0t"
      },
      "source": [
        "**Solution:**"
      ]
    },
    {
      "cell_type": "code",
      "source": [
        "import itertools\n",
        "from sklearn.metrics import precision_recall_curve\n",
        "\n",
        "X_np = X_train_processed.toarray() if hasattr(X_train_processed, \"toarray\") else X_train_processed\n",
        "\n",
        "log_reg_balanced = LogisticRegression(class_weight=\"balanced\", random_state=42)\n",
        "log_reg_balanced.fit(X_train_processed, y_train)\n",
        "\n",
        "sgd_clf_balanced = SGDClassifier(class_weight=\"balanced\", random_state=42)\n",
        "sgd_clf_balanced.fit(X_train_processed, y_train)\n",
        "\n",
        "models = {\n",
        "    \"Logistic Regression (c)\": log_reg,\n",
        "    \"SGD Classifier (c)\": sgd_clf,\n",
        "    \"Logistic Regression (Balanced)\": log_reg_balanced,\n",
        "    \"SGD Classifier (Balanced)\": sgd_clf_balanced\n",
        "}\n",
        "\n",
        "result ={}\n",
        "\n",
        "for name, model in models.items():\n",
        "    if(\"log\" in name):\n",
        "      scores = cross_val_predict(model, X_np, y_train_bin, cv=10, method=\"decision_function\")\n",
        "    else:\n",
        "      scores = cross_val_predict(model, X_np, y_train_bin, cv=10, method=\"decision_function\")\n",
        "\n",
        "    precisions, recalls, thresholds = precision_recall_curve(y_train_bin, scores)\n",
        "    precisions = precisions[:-1]\n",
        "    recalls = recalls[:-1]\n",
        "    idx = np.argmin(np.abs(recalls - 0.75))\n",
        "    result[name] = {\n",
        "        \"threshold\": thresholds[idx],\n",
        "        \"precision\": precisions[idx],\n",
        "        \"recall\": recalls[idx],\n",
        "        \"thresholds\": thresholds,\n",
        "        \"precision_curve\": precisions,\n",
        "        \"recall_curve\": recalls\n",
        "    }\n",
        "\n",
        "for name, res in result.items():\n",
        "    print(f\"{name}: threshold ~ {res['threshold']:.3f}, precision = {res['precision']:.3f}, recall = {res['recall']:.3f}\")\n",
        "\n",
        "plt.figure(figsize=(10,6))\n",
        "for name, res in itertools.islice(result.items(), 2):\n",
        "  plt.plot(res[\"thresholds\"], res[\"precision_curve\"], label=f\"{name} Precision\")\n",
        "  plt.plot(res[\"thresholds\"], res[\"recall_curve\"], label=f\"{name} Recall\")\n",
        "\n",
        "plt.xlabel(\"Threshold\")\n",
        "plt.ylabel(\"Score\")\n",
        "plt.title(\"Precision and Recall vs Threshold from 10-fold cross validation\")\n",
        "plt.legend(bbox_to_anchor = (1.05, 1),loc = \"upper left\")\n",
        "plt.show()"
      ],
      "metadata": {
        "id": "qzoUl6EFuySZ",
        "outputId": "5953e67e-e4c1-4702-c05c-d5d91a3e9478",
        "colab": {
          "base_uri": "https://localhost:8080/",
          "height": 635
        }
      },
      "execution_count": 34,
      "outputs": [
        {
          "output_type": "stream",
          "name": "stdout",
          "text": [
            "Logistic Regression (c): threshold ~ -2.207, precision = 0.312, recall = 0.750\n",
            "SGD Classifier (c): threshold ~ -1.348, precision = 0.288, recall = 0.750\n",
            "Logistic Regression (Balanced): threshold ~ 1.154, precision = 0.309, recall = 0.750\n",
            "SGD Classifier (Balanced): threshold ~ 1.159, precision = 0.238, recall = 0.750\n"
          ]
        },
        {
          "output_type": "display_data",
          "data": {
            "text/plain": [
              "<Figure size 1000x600 with 1 Axes>"
            ],
            "image/png": "[encoded data removed]"
          },
          "metadata": {}
        }
      ]
    },
    {
      "cell_type": "markdown",
      "source": [
        "The original logistic regression from part c has the best precision with around 31.2% at 75% recall"
      ],
      "metadata": {
        "id": "xfkh-vuMC-8l"
      }
    },
    {
      "cell_type": "markdown",
      "metadata": {
        "id": "k5JerRrZ-g0t"
      },
      "source": [
        "## (e) [3 marks]\n",
        "\n",
        "Fit the best classifier in (d) to the whole training data, and use it to predict on the test set. What is its accuracy, precision, recall, ROC curve and ROC AUC over the test set?"
      ]
    },
    {
      "cell_type": "markdown",
      "metadata": {
        "id": "d-mVaT5b-g0t"
      },
      "source": [
        "**Solution:**"
      ]
    },
    {
      "cell_type": "code",
      "source": [
        "from sklearn.metrics import accuracy_score, precision_score, recall_score, roc_curve, roc_auc_score\n",
        "X_test_processed = preprocessing.transform(X_test)\n",
        "y_test_bin = (y_test == \"Yes\").astype(int).values\n",
        "\n",
        "best_model = models[\"Logistic Regression (c)\"]\n",
        "best_model.fit(X_train_processed, y_train_bin)\n",
        "\n",
        "y_pred = best_model.predict(X_test_processed)\n",
        "y_scores = best_model.decision_function(X_test_processed)\n",
        "\n",
        "accuracy = accuracy_score(y_test_bin, y_pred)\n",
        "precision = precision_score(y_test_bin, y_pred)\n",
        "recall = recall_score(y_test_bin, y_pred)\n",
        "\n",
        "roc_auc = roc_auc_score(y_test_bin, y_scores)\n",
        "\n",
        "fpr, tpr, thresholds = roc_curve(y_test_bin, y_scores)\n",
        "\n",
        "print(\"Accuracy:\", accuracy)\n",
        "print(\"Precision:\", precision)\n",
        "print(\"Recall:\", recall)\n",
        "print(\"ROC AUC:\", roc_auc)\n",
        "\n"
      ],
      "metadata": {
        "id": "ndYRhkuWtnoj",
        "outputId": "2b356490-e0c8-4cfb-9947-9bbec520faeb",
        "colab": {
          "base_uri": "https://localhost:8080/",
          "height": 0
        }
      },
      "execution_count": 39,
      "outputs": [
        {
          "output_type": "stream",
          "name": "stdout",
          "text": [
            "Accuracy: 0.9695\n",
            "Precision: 0.6333333333333333\n",
            "Recall: 0.2753623188405797\n",
            "ROC AUC: 0.9435075315785919\n"
          ]
        }
      ]
    },
    {
      "cell_type": "code",
      "source": [
        "plt.figure()\n",
        "plt.plot(fpr, tpr,color ='green', label=f\"Logistic Regression (AUC = {roc_auc:.2f})\")\n",
        "plt.plot([0, 1], [0, 1], \"k--\")\n",
        "plt.xlabel(\"False Positive Rate\")\n",
        "plt.ylabel(\"True Positive Rate\")\n",
        "plt.title(\"ROC Curve (10-fold cv)\")\n",
        "plt.legend(loc = \"upper right\")\n",
        "plt.grid(True, linestyle ='--', alpha=0.8)\n",
        "plt.show()"
      ],
      "metadata": {
        "id": "mPkTnytvFtlD",
        "outputId": "562e5212-8087-4561-b72c-9b4a8b7f0a14",
        "colab": {
          "base_uri": "https://localhost:8080/",
          "height": 472
        }
      },
      "execution_count": 42,
      "outputs": [
        {
          "output_type": "display_data",
          "data": {
            "text/plain": [
              "<Figure size 640x480 with 1 Axes>"
            ],
            "image/png": "[encoded data removed]"
          },
          "metadata": {}
        }
      ]
    },
    {
      "cell_type": "markdown",
      "source": [
        "End of HW1"
      ],
      "metadata": {
        "id": "8aEaQtpvdbpb"
      }
    }
  ],
  "metadata": {
    "hide_input": false,
    "kernelspec": {
      "display_name": "Python 3",
      "name": "python3"
    },
    "language_info": {
      "codemirror_mode": {
        "name": "ipython",
        "version": 3
      },
      "file_extension": ".py",
      "mimetype": "text/x-python",
      "name": "python",
      "nbconvert_exporter": "python",
      "pygments_lexer": "ipython3",
      "version": "3.11.5"
    },
    "latex_envs": {
      "LaTeX_envs_menu_present": true,
      "autoclose": false,
      "autocomplete": false,
      "bibliofile": "biblio.bib",
      "cite_by": "apalike",
      "current_citInitial": 1,
      "eqLabelWithNumbers": true,
      "eqNumInitial": 1,
      "hotkeys": {
        "equation": "Ctrl-E",
        "itemize": "Ctrl-I"
      },
      "labels_anchors": false,
      "latex_user_defs": false,
      "report_style_numbering": false,
      "user_envs_cfg": false
    },
    "toc": {
      "base_numbering": 1,
      "nav_menu": {},
      "number_sections": false,
      "sideBar": true,
      "skip_h1_title": false,
      "title_cell": "Table of Contents",
      "title_sidebar": "Contents",
      "toc_cell": false,
      "toc_position": {},
      "toc_section_display": true,
      "toc_window_display": false
    },
    "varInspector": {
      "cols": {
        "lenName": 16,
        "lenType": 16,
        "lenVar": 40
      },
      "kernels_config": {
        "python": {
          "delete_cmd_postfix": "",
          "delete_cmd_prefix": "del ",
          "library": "var_list.py",
          "varRefreshCmd": "print(var_dic_list())"
        },
        "r": {
          "delete_cmd_postfix": ") ",
          "delete_cmd_prefix": "rm(",
          "library": "var_list.r",
          "varRefreshCmd": "cat(var_dic_list()) "
        }
      },
      "types_to_exclude": [
        "module",
        "function",
        "builtin_function_or_method",
        "instance",
        "_Feature"
      ],
      "window_display": false
    },
    "colab": {
      "provenance": [],
      "gpuType": "T4"
    },
    "accelerator": "GPU"
  },
  "nbformat": 4,
  "nbformat_minor": 0
}