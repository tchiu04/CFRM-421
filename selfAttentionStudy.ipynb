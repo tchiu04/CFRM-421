{
 "cells": [
  {
   "cell_type": "code",
   "execution_count": 43,
   "metadata": {},
   "outputs": [],
   "source": [
    "import numpy as np\n",
    "import pandas as pd\n",
    "import torch\n",
    "import torch.nn as nn\n",
    "import torch.optim as optim\n",
    "import matplotlib.pyplot as plt\n",
    "from sklearn.model_selection import train_test_split\n",
    "from torch.utils.data import DataLoader, TensorDataset\n",
    "import torch.nn.functional as F"
   ]
  },
  {
   "cell_type": "markdown",
   "metadata": {},
   "source": [
    "From functional programming to OOP  \n"
   ]
  },
  {
   "cell_type": "code",
   "execution_count": 44,
   "metadata": {},
   "outputs": [],
   "source": [
    "class Model(nn.Module):\n",
    "    def __init__(self, in_features = 4, h1 = 8, h2 = 4, out_features = 3):\n",
    "        super(Model, self).__init__()\n",
    "        self.fc1 = nn.Linear(in_features, h1)\n",
    "        self.fc2 = nn.Linear(h1, h2)\n",
    "        self.fc3 = nn.Linear(h2, out_features)\n",
    "        \n",
    "    def forward(self, x):\n",
    "        x = F.relu(self.fc1(x))\n",
    "        x = F.relu(self.fc2(x))\n",
    "        x = self.fc3(x)\n",
    "        return x\n",
    "    \n",
    "\n"
   ]
  },
  {
   "cell_type": "code",
   "execution_count": 45,
   "metadata": {},
   "outputs": [
    {
     "name": "stdout",
     "output_type": "stream",
     "text": [
      "Model(\n",
      "  (fc1): Linear(in_features=4, out_features=8, bias=True)\n",
      "  (fc2): Linear(in_features=8, out_features=4, bias=True)\n",
      "  (fc3): Linear(in_features=4, out_features=3, bias=True)\n",
      ")\n",
      "Model Summary:\n",
      "Input Layer: 4 features\n",
      "Hidden Layer 1: 8 neurons\n",
      "Hidden Layer 2: 4 neurons\n",
      "Output Layer: 3 classes (iris flower species)\n"
     ]
    }
   ],
   "source": [
    "# Pick a manual seed for reproducibility\n",
    "torch.manual_seed(41)\n",
    "# Create an instance of the model\n",
    "model = Model()\n",
    "# Print the model architecture\n",
    "print(model)\n",
    "# Print the model summary\n",
    "print(\"Model Summary:\")\n",
    "print(\"Input Layer: 4 features\")\n",
    "print(\"Hidden Layer 1: 8 neurons\")\n",
    "print(\"Hidden Layer 2: 4 neurons\")\n",
    "print(\"Output Layer: 3 classes (iris flower species)\")"
   ]
  },
  {
   "cell_type": "code",
   "execution_count": 46,
   "metadata": {},
   "outputs": [
    {
     "data": {
      "text/plain": [
       "((150, 4), (150,))"
      ]
     },
     "execution_count": 46,
     "metadata": {},
     "output_type": "execute_result"
    }
   ],
   "source": [
    "url = 'https://gist.githubusercontent.com/curran/a08a1080b88344b0c8a7/raw/0e7a9b0a5d22642a06d3d5b9bcbad9890c8ee534/iris.csv'\n",
    "my_df = pd.read_csv(url)\n",
    "my_df['species']= my_df['species'].map({'setosa': 0.0, 'versicolor': 1.0, 'virginica': 2.0})\n",
    "X = my_df.drop('species', axis=1).values\n",
    "y = my_df['species'].values\n",
    "X.shape, y.shape"
   ]
  },
  {
   "cell_type": "code",
   "execution_count": 47,
   "metadata": {},
   "outputs": [],
   "source": [
    "# Splitting the dataset into training and testing sets\n",
    "X_train, X_test, y_train, y_test = train_test_split(X, y, test_size=0.2, random_state=42)\n",
    "X_train.shape, X_test.shape, y_train.shape, y_test.shape\n",
    "# In PyTorch, we need to convert the data into PyTorch tensors.\n",
    "X_train = torch.FloatTensor(X_train)\n",
    "X_test = torch.FloatTensor(X_test)\n",
    "y_train = torch.LongTensor(y_train)\n",
    "y_test = torch.LongTensor(y_test)\n",
    "criterion = nn.CrossEntropyLoss() # Loss function for multi-class classification"
   ]
  },
  {
   "cell_type": "code",
   "execution_count": 48,
   "metadata": {},
   "outputs": [
    {
     "name": "stdout",
     "output_type": "stream",
     "text": [
      "Epoch [100/1000], Loss: 0.07332494854927063, Test Loss: 0.03837988153100014\n",
      "Epoch [200/1000], Loss: 0.07170283049345016, Test Loss: 0.04108130931854248\n",
      "Epoch [300/1000], Loss: 0.07066372781991959, Test Loss: 0.04656220227479935\n",
      "Epoch [400/1000], Loss: 0.06996344029903412, Test Loss: 0.05070348083972931\n",
      "Epoch [500/1000], Loss: 0.06939557194709778, Test Loss: 0.05339319631457329\n",
      "Epoch [600/1000], Loss: 0.0689346119761467, Test Loss: 0.05498713627457619\n",
      "Epoch [700/1000], Loss: 0.06855039298534393, Test Loss: 0.05586548522114754\n",
      "Epoch [800/1000], Loss: 0.06821487098932266, Test Loss: 0.05628542602062225\n",
      "Epoch [900/1000], Loss: 0.06791003048419952, Test Loss: 0.05633560195565224\n",
      "Epoch [1000/1000], Loss: 0.06762552261352539, Test Loss: 0.05615239590406418\n"
     ]
    }
   ],
   "source": [
    "optimizer = torch.optim.Adam(model.parameters(), lr=0.001) # Adam optimizer with learning rate of 0.01\n",
    "\n",
    "num_epochs = 1000 # Number of epochs for training\n",
    "losses = [] # List to store the loss values for each epoch\n",
    "test_losses = []\n",
    "# Training loop\n",
    "for epoch in range(num_epochs):\n",
    "    step_loss = []\n",
    "    model.train() # Set the model to training mode\n",
    "    for i, data in enumerate(X_train):\n",
    "        # backpropagation\n",
    "        optimizer.zero_grad() # Zero the gradients \n",
    "        y_pred = model(data)\n",
    "        loss = criterion(y_pred, y_train[i])\n",
    "        loss.backward() # Compute the gradients\n",
    "        optimizer.step() # Update the weights\n",
    "        step_loss.append(loss)\n",
    "        # print every 100 epochs\n",
    "    loss = sum(step_loss) / len(step_loss) # Average loss for the epoch\n",
    "    losses.append(loss.detach().numpy()) # Store the loss values\n",
    "\n",
    "    with torch.no_grad(): # No need to compute gradients for the test set\n",
    "        model.eval()\n",
    "        step_test_loss = []\n",
    "        for i, data in enumerate(X_test):\n",
    "            y_test_pred = model(data) # Forward pass on the test set\n",
    "            test_loss = criterion(y_test_pred, y_test[i]) # Compute the test loss\n",
    "            step_test_loss.append(test_loss)\n",
    "        test_loss = sum(step_test_loss) / len(step_test_loss)\n",
    "        test_losses.append(test_loss.detach().numpy())\n",
    "\n",
    "    # print every 100 epochs\n",
    "    if (epoch+1) % 100 == 0:\n",
    "        print(f'Epoch [{epoch+1}/{num_epochs}], Loss: {loss}, Test Loss: {test_loss}')\n",
    "    "
   ]
  },
  {
   "cell_type": "code",
   "execution_count": 49,
   "metadata": {},
   "outputs": [
    {
     "data": {
      "image/png": "[encoded data removed]",
      "text/plain": [
       "<Figure size 640x480 with 1 Axes>"
      ]
     },
     "metadata": {},
     "output_type": "display_data"
    }
   ],
   "source": [
    "plt.plot(losses, label='Loss')\n",
    "plt.plot(test_losses, label='Test Loss')\n",
    "plt.xlabel('Epochs')\n",
    "plt.ylabel('Loss')\n",
    "plt.title('Loss over Epochs')\n",
    "plt.legend()\n",
    "plt.show()"
   ]
  },
  {
   "cell_type": "code",
   "execution_count": 50,
   "metadata": {},
   "outputs": [
    {
     "name": "stdout",
     "output_type": "stream",
     "text": [
      "False\n",
      "0\n",
      "No GPU found\n",
      "2.7.0\n"
     ]
    }
   ],
   "source": [
    "# Check if GPU is available and set the device\n",
    "print(torch.cuda.is_available())\n",
    "print(torch.cuda.device_count())\n",
    "print(torch.cuda.get_device_name(0) if torch.cuda.is_available() else \"No GPU found\")\n",
    "print(torch.__version__)"
   ]
  },
  {
   "cell_type": "code",
   "execution_count": 51,
   "metadata": {},
   "outputs": [],
   "source": [
    "class ModelX(nn.Module):\n",
    "    ## input layer (4 dimensions) -> hidden layer 1 (128 dimensions) -> hidden layer 2 (64 dimensions) -> output layer (3 classes of iris flower species)\n",
    "    ## The model is a simple feedforward neural network with two hidden layers.\n",
    "    ## The first hidden layer has 128 neurons and the second hidden layer has 64 neurons.\n",
    "    ## The activation function used is ReLU (Rectified Linear Unit).\n",
    "    ## The output layer has 1 neuron, which is suitable for regression tasks.\n",
    "    def __init__(self, in_features = 4, h1 = 8, h2 = 4, out_features = 3):\n",
    "        super(ModelX, self).__init__()\n",
    "        self.fc1 = nn.Linear(in_features, h1)\n",
    "        self.fc2 = nn.Linear(h1, h2)\n",
    "        self.out = nn.Linear(h2, out_features)\n",
    "        self._init_weights()\n",
    "        # Initialize weights using Xavier uniform distribution\n",
    "\n",
    "    def _init_weights(self):\n",
    "        for m in self.modules():\n",
    "            if isinstance(m, nn.Linear):\n",
    "                torch.nn.init.xavier_uniform_(m.weight)\n",
    "\n",
    "    def forward(self, x):\n",
    "        x = F.relu(self.fc1(x))\n",
    "        x = F.relu(self.fc2(x))\n",
    "        x = self.out(x)\n",
    "        return x"
   ]
  },
  {
   "cell_type": "code",
   "execution_count": 52,
   "metadata": {},
   "outputs": [
    {
     "name": "stdout",
     "output_type": "stream",
     "text": [
      "Using device: cpu\n"
     ]
    }
   ],
   "source": [
    "device = torch.device(\"cuda\" if torch.cuda.is_available() else \"cpu\")\n",
    "device = \"cpu\"\n",
    "print(f\"Using device: {device}\")\n",
    "\n",
    "# Pick a manual seed for reproducibility\n",
    "torch.manual_seed# Create an instance of the model\n",
    "modelX = ModelX().to(device)\n",
    "optimizer = torch.optim.Adam(modelX.parameters(), lr=0.001)"
   ]
  },
  {
   "cell_type": "code",
   "execution_count": 53,
   "metadata": {},
   "outputs": [
    {
     "name": "stdout",
     "output_type": "stream",
     "text": [
      "Epoch [1000/10000], Loss: 0.06414619088172913, Test Loss: 0.04500359296798706\n",
      "Epoch [2000/10000], Loss: 0.06405666470527649, Test Loss: 0.038356948643922806\n",
      "Epoch [3000/10000], Loss: 0.0561559796333313, Test Loss: 0.03791442885994911\n",
      "Epoch [4000/10000], Loss: 0.05896814167499542, Test Loss: 0.029790854081511497\n",
      "Epoch [5000/10000], Loss: 0.04990658164024353, Test Loss: 0.03101501427590847\n",
      "Epoch [6000/10000], Loss: 0.04648703336715698, Test Loss: 0.02836311236023903\n",
      "Epoch [7000/10000], Loss: 0.04755284637212753, Test Loss: 0.0264732763171196\n",
      "Epoch [8000/10000], Loss: 0.04679308459162712, Test Loss: 0.02428988553583622\n",
      "Epoch [9000/10000], Loss: 0.04629647731781006, Test Loss: 0.023066896945238113\n",
      "Epoch [10000/10000], Loss: 0.046771906316280365, Test Loss: 0.022128116339445114\n"
     ]
    }
   ],
   "source": [
    "# Move the data to the GPU\n",
    "X_train = X_train.to(device)\n",
    "X_test = X_test.to(device)\n",
    "y_train = y_train.to(device)\n",
    "y_test = y_test.to(device)\n",
    "\n",
    "# To make full use of the GPU, we will need to do batch gradient descent\n",
    "# will use DataLoader to create batches of data.\n",
    "\n",
    "train_dataset = TensorDataset(X_train, y_train) # Create a TensorDataset from the training data\n",
    "train_loader = DataLoader(train_dataset, batch_size=32, shuffle=True) # Create a DataLoader for the training data\n",
    "test_dataset = TensorDataset(X_test, y_test) # Create a TensorDataset from the test data\n",
    "test_loader = DataLoader(test_dataset, batch_size=32, shuffle=False) # Create a DataLoader for the test data\n",
    "\n",
    "\n",
    "# Training loop\n",
    "num_epochs = 10000  # Number of epochs for training\n",
    "losses = []  # List to store the loss values for each epoch\n",
    "test_losses = []\n",
    "\n",
    "for epoch in range(num_epochs):\n",
    "    step_loss = []\n",
    "    modelX.train()  # Set the model to training mode\n",
    "    for data, target in train_loader:\n",
    "        # Backpropagation\n",
    "        optimizer.zero_grad()  # Zero the gradients\n",
    "        y_pred = modelX(data)\n",
    "        loss = criterion(y_pred, target)\n",
    "        loss.backward()  # Backward pass\n",
    "        optimizer.step()  # Update the weights\n",
    "        step_loss.append(loss)\n",
    "\n",
    "    # Average loss for the epoch\n",
    "    loss = sum(step_loss) / len(step_loss)\n",
    "    losses.append(loss.detach().cpu().numpy())  # Store the loss values (move to CPU for storage)\n",
    "\n",
    "    # Evaluate on the test set\n",
    "    with torch.no_grad():  # No need to compute gradients for the test set\n",
    "        modelX.eval()\n",
    "        step_test_loss = []\n",
    "        for data, target in test_loader:\n",
    "            y_test_pred = modelX(data)  # Forward pass on the test set\n",
    "            test_loss = criterion(y_test_pred, target)  # Compute the test loss\n",
    "            step_test_loss.append(test_loss)\n",
    "        test_loss = sum(step_test_loss) / len(step_test_loss)\n",
    "        test_losses.append(test_loss.detach().cpu().numpy())  # Move to CPU for storage\n",
    "\n",
    "    # Print every 1000 epochs\n",
    "    if (epoch + 1) % 1000 == 0:\n",
    "        print(f\"Epoch [{epoch + 1}/{num_epochs}], Loss: {loss}, Test Loss: {test_loss}\")"
   ]
  },
  {
   "cell_type": "code",
   "execution_count": 54,
   "metadata": {},
   "outputs": [
    {
     "data": {
      "image/png": "[encoded data removed]",
      "text/plain": [
       "<Figure size 640x480 with 1 Axes>"
      ]
     },
     "metadata": {},
     "output_type": "display_data"
    }
   ],
   "source": [
    "# Plotting the loss values\n",
    "plt.plot(losses, label='Loss')\n",
    "plt.plot(test_losses, label='Test Loss')\n",
    "plt.xlabel('Epochs')\n",
    "plt.ylabel('Loss')\n",
    "plt.title('Loss over Epochs')\n",
    "plt.legend()\n",
    "plt.show()"
   ]
  },
  {
   "cell_type": "code",
   "execution_count": null,
   "metadata": {},
   "outputs": [],
   "source": []
  }
 ],
 "metadata": {
  "kernelspec": {
   "display_name": ".venv",
   "language": "python",
   "name": "python3"
  },
  "language_info": {
   "codemirror_mode": {
    "name": "ipython",
    "version": 3
   },
   "file_extension": ".py",
   "mimetype": "text/x-python",
   "name": "python",
   "nbconvert_exporter": "python",
   "pygments_lexer": "ipython3",
   "version": "3.11.12"
  }
 },
 "nbformat": 4,
 "nbformat_minor": 2
}
