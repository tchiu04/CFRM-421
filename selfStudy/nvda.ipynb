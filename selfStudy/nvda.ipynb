{
 "cells": [
  {
   "cell_type": "code",
   "execution_count": 2,
   "metadata": {},
   "outputs": [],
   "source": [
    "import yfinance as yf\n"
   ]
  },
  {
   "cell_type": "code",
   "execution_count": 3,
   "metadata": {},
   "outputs": [],
   "source": [
    "nvda = yf.Ticker(\"NVDA\")\n"
   ]
  },
  {
   "cell_type": "code",
   "execution_count": 4,
   "metadata": {},
   "outputs": [],
   "source": [
    "nvda = nvda.history(period=\"max\")\n"
   ]
  },
  {
   "cell_type": "code",
   "execution_count": 5,
   "metadata": {},
   "outputs": [
    {
     "data": {
      "text/html": [
       "<div>\n",
       "<style scoped>\n",
       "    .dataframe tbody tr th:only-of-type {\n",
       "        vertical-align: middle;\n",
       "    }\n",
       "\n",
       "    .dataframe tbody tr th {\n",
       "        vertical-align: top;\n",
       "    }\n",
       "\n",
       "    .dataframe thead th {\n",
       "        text-align: right;\n",
       "    }\n",
       "</style>\n",
       "<table border=\"1\" class=\"dataframe\">\n",
       "  <thead>\n",
       "    <tr style=\"text-align: right;\">\n",
       "      <th></th>\n",
       "      <th>Open</th>\n",
       "      <th>High</th>\n",
       "      <th>Low</th>\n",
       "      <th>Close</th>\n",
       "      <th>Volume</th>\n",
       "      <th>Dividends</th>\n",
       "      <th>Stock Splits</th>\n",
       "    </tr>\n",
       "    <tr>\n",
       "      <th>Date</th>\n",
       "      <th></th>\n",
       "      <th></th>\n",
       "      <th></th>\n",
       "      <th></th>\n",
       "      <th></th>\n",
       "      <th></th>\n",
       "      <th></th>\n",
       "    </tr>\n",
       "  </thead>\n",
       "  <tbody>\n",
       "    <tr>\n",
       "      <th>1999-01-22 00:00:00-05:00</th>\n",
       "      <td>0.040119</td>\n",
       "      <td>0.044775</td>\n",
       "      <td>0.035581</td>\n",
       "      <td>0.037612</td>\n",
       "      <td>2714688000</td>\n",
       "      <td>0.0</td>\n",
       "      <td>0.0</td>\n",
       "    </tr>\n",
       "    <tr>\n",
       "      <th>1999-01-25 00:00:00-05:00</th>\n",
       "      <td>0.040597</td>\n",
       "      <td>0.042029</td>\n",
       "      <td>0.037612</td>\n",
       "      <td>0.041552</td>\n",
       "      <td>510480000</td>\n",
       "      <td>0.0</td>\n",
       "      <td>0.0</td>\n",
       "    </tr>\n",
       "    <tr>\n",
       "      <th>1999-01-26 00:00:00-05:00</th>\n",
       "      <td>0.042029</td>\n",
       "      <td>0.042865</td>\n",
       "      <td>0.037731</td>\n",
       "      <td>0.038328</td>\n",
       "      <td>343200000</td>\n",
       "      <td>0.0</td>\n",
       "      <td>0.0</td>\n",
       "    </tr>\n",
       "    <tr>\n",
       "      <th>1999-01-27 00:00:00-05:00</th>\n",
       "      <td>0.038447</td>\n",
       "      <td>0.039403</td>\n",
       "      <td>0.036298</td>\n",
       "      <td>0.038209</td>\n",
       "      <td>244368000</td>\n",
       "      <td>0.0</td>\n",
       "      <td>0.0</td>\n",
       "    </tr>\n",
       "    <tr>\n",
       "      <th>1999-01-28 00:00:00-05:00</th>\n",
       "      <td>0.038209</td>\n",
       "      <td>0.038447</td>\n",
       "      <td>0.037850</td>\n",
       "      <td>0.038089</td>\n",
       "      <td>227520000</td>\n",
       "      <td>0.0</td>\n",
       "      <td>0.0</td>\n",
       "    </tr>\n",
       "    <tr>\n",
       "      <th>...</th>\n",
       "      <td>...</td>\n",
       "      <td>...</td>\n",
       "      <td>...</td>\n",
       "      <td>...</td>\n",
       "      <td>...</td>\n",
       "      <td>...</td>\n",
       "      <td>...</td>\n",
       "    </tr>\n",
       "    <tr>\n",
       "      <th>2025-05-19 00:00:00-04:00</th>\n",
       "      <td>132.389999</td>\n",
       "      <td>135.869995</td>\n",
       "      <td>132.389999</td>\n",
       "      <td>135.570007</td>\n",
       "      <td>193154600</td>\n",
       "      <td>0.0</td>\n",
       "      <td>0.0</td>\n",
       "    </tr>\n",
       "    <tr>\n",
       "      <th>2025-05-20 00:00:00-04:00</th>\n",
       "      <td>134.289993</td>\n",
       "      <td>134.580002</td>\n",
       "      <td>132.619995</td>\n",
       "      <td>134.380005</td>\n",
       "      <td>161514200</td>\n",
       "      <td>0.0</td>\n",
       "      <td>0.0</td>\n",
       "    </tr>\n",
       "    <tr>\n",
       "      <th>2025-05-21 00:00:00-04:00</th>\n",
       "      <td>133.059998</td>\n",
       "      <td>137.399994</td>\n",
       "      <td>130.589996</td>\n",
       "      <td>131.800003</td>\n",
       "      <td>270608700</td>\n",
       "      <td>0.0</td>\n",
       "      <td>0.0</td>\n",
       "    </tr>\n",
       "    <tr>\n",
       "      <th>2025-05-22 00:00:00-04:00</th>\n",
       "      <td>132.229996</td>\n",
       "      <td>134.250000</td>\n",
       "      <td>131.550003</td>\n",
       "      <td>132.830002</td>\n",
       "      <td>187344000</td>\n",
       "      <td>0.0</td>\n",
       "      <td>0.0</td>\n",
       "    </tr>\n",
       "    <tr>\n",
       "      <th>2025-05-23 00:00:00-04:00</th>\n",
       "      <td>130.000000</td>\n",
       "      <td>132.679993</td>\n",
       "      <td>129.160004</td>\n",
       "      <td>131.289993</td>\n",
       "      <td>198367700</td>\n",
       "      <td>0.0</td>\n",
       "      <td>0.0</td>\n",
       "    </tr>\n",
       "  </tbody>\n",
       "</table>\n",
       "<p>6626 rows × 7 columns</p>\n",
       "</div>"
      ],
      "text/plain": [
       "                                 Open        High         Low       Close  \\\n",
       "Date                                                                        \n",
       "1999-01-22 00:00:00-05:00    0.040119    0.044775    0.035581    0.037612   \n",
       "1999-01-25 00:00:00-05:00    0.040597    0.042029    0.037612    0.041552   \n",
       "1999-01-26 00:00:00-05:00    0.042029    0.042865    0.037731    0.038328   \n",
       "1999-01-27 00:00:00-05:00    0.038447    0.039403    0.036298    0.038209   \n",
       "1999-01-28 00:00:00-05:00    0.038209    0.038447    0.037850    0.038089   \n",
       "...                               ...         ...         ...         ...   \n",
       "2025-05-19 00:00:00-04:00  132.389999  135.869995  132.389999  135.570007   \n",
       "2025-05-20 00:00:00-04:00  134.289993  134.580002  132.619995  134.380005   \n",
       "2025-05-21 00:00:00-04:00  133.059998  137.399994  130.589996  131.800003   \n",
       "2025-05-22 00:00:00-04:00  132.229996  134.250000  131.550003  132.830002   \n",
       "2025-05-23 00:00:00-04:00  130.000000  132.679993  129.160004  131.289993   \n",
       "\n",
       "                               Volume  Dividends  Stock Splits  \n",
       "Date                                                            \n",
       "1999-01-22 00:00:00-05:00  2714688000        0.0           0.0  \n",
       "1999-01-25 00:00:00-05:00   510480000        0.0           0.0  \n",
       "1999-01-26 00:00:00-05:00   343200000        0.0           0.0  \n",
       "1999-01-27 00:00:00-05:00   244368000        0.0           0.0  \n",
       "1999-01-28 00:00:00-05:00   227520000        0.0           0.0  \n",
       "...                               ...        ...           ...  \n",
       "2025-05-19 00:00:00-04:00   193154600        0.0           0.0  \n",
       "2025-05-20 00:00:00-04:00   161514200        0.0           0.0  \n",
       "2025-05-21 00:00:00-04:00   270608700        0.0           0.0  \n",
       "2025-05-22 00:00:00-04:00   187344000        0.0           0.0  \n",
       "2025-05-23 00:00:00-04:00   198367700        0.0           0.0  \n",
       "\n",
       "[6626 rows x 7 columns]"
      ]
     },
     "execution_count": 5,
     "metadata": {},
     "output_type": "execute_result"
    }
   ],
   "source": [
    "nvda"
   ]
  },
  {
   "cell_type": "code",
   "execution_count": 6,
   "metadata": {},
   "outputs": [
    {
     "data": {
      "text/plain": [
       "<Axes: xlabel='Date'>"
      ]
     },
     "execution_count": 6,
     "metadata": {},
     "output_type": "execute_result"
    },
    {
     "data": {
      "image/png": "[encoded data removed]",
      "text/plain": [
       "<Figure size 640x480 with 1 Axes>"
      ]
     },
     "metadata": {},
     "output_type": "display_data"
    }
   ],
   "source": [
    "nvda.plot.line(y=\"Close\", use_index=True)\n"
   ]
  },
  {
   "cell_type": "code",
   "execution_count": null,
   "metadata": {},
   "outputs": [],
   "source": []
  }
 ],
 "metadata": {
  "kernelspec": {
   "display_name": ".venv",
   "language": "python",
   "name": "python3"
  },
  "language_info": {
   "codemirror_mode": {
    "name": "ipython",
    "version": 3
   },
   "file_extension": ".py",
   "mimetype": "text/x-python",
   "name": "python",
   "nbconvert_exporter": "python",
   "pygments_lexer": "ipython3",
   "version": "3.11.12"
  }
 },
 "nbformat": 4,
 "nbformat_minor": 2
}
